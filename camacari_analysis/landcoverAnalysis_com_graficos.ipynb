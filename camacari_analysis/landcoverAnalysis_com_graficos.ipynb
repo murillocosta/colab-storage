{
  "cells": [
    {
      "cell_type": "markdown",
      "metadata": {
        "colab_type": "text",
        "id": "view-in-github"
      },
      "source": [
        "<a href=\"https://colab.research.google.com/github/murillocosta/colab-storage/blob/main/landcoverAnalysis.ipynb\" target=\"_parent\"><img src=\"https://colab.research.google.com/assets/colab-badge.svg\" alt=\"Open In Colab\"/></a>"
      ]
    },
    {
      "cell_type": "markdown",
      "metadata": {
        "id": "ccM6sauXKtEs"
      },
      "source": [
        "#### Instalando biblioteca Geemap"
      ]
    },
    {
      "cell_type": "code",
      "execution_count": null,
      "metadata": {
        "id": "1T8yOU0SKnrK"
      },
      "outputs": [],
      "source": [
        "%pip install -U geemap"
      ]
    },
    {
      "cell_type": "markdown",
      "metadata": {
        "id": "K1kUtX-2Ha9x"
      },
      "source": [
        "#### Importando das bibliotecas do Earth Engine, Geemap, Pandas"
      ]
    },
    {
      "cell_type": "code",
      "execution_count": 55,
      "metadata": {
        "colab": {
          "base_uri": "https://localhost:8080/",
          "height": 17
        },
        "id": "p9GSVdsVHVvW",
        "outputId": "a8ef6ab5-a941-4839-f085-fc0e61b09f2f"
      },
      "outputs": [
        {
          "data": {
            "text/html": [
              "\n",
              "            <style>\n",
              "                .geemap-dark {\n",
              "                    --jp-widgets-color: white;\n",
              "                    --jp-widgets-label-color: white;\n",
              "                    --jp-ui-font-color1: white;\n",
              "                    --jp-layout-color2: #454545;\n",
              "                    background-color: #383838;\n",
              "                }\n",
              "                    \n",
              "                .geemap-dark .jupyter-button {\n",
              "                    --jp-layout-color3: #383838;\n",
              "                }\n",
              "                \n",
              "                .geemap-colab {\n",
              "                    background-color: var(--colab-primary-surface-color, white);\n",
              "                }\n",
              "                    \n",
              "                .geemap-colab .jupyter-button {\n",
              "                    --jp-layout-color3: var(--colab-primary-surface-color, white);\n",
              "                }\n",
              "            </style>\n",
              "            "
            ],
            "text/plain": [
              "<IPython.core.display.HTML object>"
            ]
          },
          "metadata": {},
          "output_type": "display_data"
        }
      ],
      "source": [
        "import ee\n",
        "import geemap\n",
        "import pandas as pd\n",
        "import matplotlib.pyplot as plt\n",
        "import seaborn as sns"
      ]
    },
    {
      "cell_type": "markdown",
      "metadata": {
        "id": "hSF65yiQHoOt"
      },
      "source": [
        "#### Atenticando no Earth Engine"
      ]
    },
    {
      "cell_type": "code",
      "execution_count": 24,
      "metadata": {
        "colab": {
          "base_uri": "https://localhost:8080/",
          "height": 185
        },
        "id": "73IYRpH_HWzb",
        "outputId": "9e9c7ff6-34e2-43c8-885c-325a99d1d24b"
      },
      "outputs": [
        {
          "data": {
            "text/html": [
              "\n",
              "            <style>\n",
              "                .geemap-dark {\n",
              "                    --jp-widgets-color: white;\n",
              "                    --jp-widgets-label-color: white;\n",
              "                    --jp-ui-font-color1: white;\n",
              "                    --jp-layout-color2: #454545;\n",
              "                    background-color: #383838;\n",
              "                }\n",
              "                    \n",
              "                .geemap-dark .jupyter-button {\n",
              "                    --jp-layout-color3: #383838;\n",
              "                }\n",
              "                \n",
              "                .geemap-colab {\n",
              "                    background-color: var(--colab-primary-surface-color, white);\n",
              "                }\n",
              "                    \n",
              "                .geemap-colab .jupyter-button {\n",
              "                    --jp-layout-color3: var(--colab-primary-surface-color, white);\n",
              "                }\n",
              "            </style>\n",
              "            "
            ],
            "text/plain": [
              "<IPython.core.display.HTML object>"
            ]
          },
          "metadata": {},
          "output_type": "display_data"
        },
        {
          "name": "stdout",
          "output_type": "stream",
          "text": [
            "To authorize access needed by Earth Engine, open the following URL in a web browser and follow the instructions. If the web browser does not start automatically, please manually browse the URL below.\n",
            "\n",
            "    https://code.earthengine.google.com/client-auth?scopes=https%3A//www.googleapis.com/auth/earthengine%20https%3A//www.googleapis.com/auth/devstorage.full_control&request_id=rU3BZFmybzl0UVCfA06Jzns6ZnJ7gsiJD_aigOkZaJM&tc=cZTDnoeednQEmLUzqm12c_mHKojm2ljs7Sk9N_R8oII&cc=6foHhf2oFXuEkoPFbLvIxqqnCR4JKua7aOuf7fsd4DI\n",
            "\n",
            "The authorization workflow will generate a code, which you should paste in the box below.\n",
            "Enter verification code: 4/1AfJohXnLg1c6GkUvnHfBXesAtc_FgrQWfED9Lwr-6tWqPfXZ5J7mw1pLTE8\n",
            "\n",
            "Successfully saved authorization token.\n"
          ]
        }
      ],
      "source": [
        "ee.Authenticate()"
      ]
    },
    {
      "cell_type": "markdown",
      "metadata": {
        "id": "AuU__nwCHowA"
      },
      "source": [
        "#### Inicializndo o Earth Engine"
      ]
    },
    {
      "cell_type": "code",
      "execution_count": 25,
      "metadata": {
        "colab": {
          "base_uri": "https://localhost:8080/",
          "height": 17
        },
        "id": "86fjOwfNHYtT",
        "outputId": "8f56ef05-bad5-4a4f-fb11-22e4ad2dc840"
      },
      "outputs": [
        {
          "data": {
            "text/html": [
              "\n",
              "            <style>\n",
              "                .geemap-dark {\n",
              "                    --jp-widgets-color: white;\n",
              "                    --jp-widgets-label-color: white;\n",
              "                    --jp-ui-font-color1: white;\n",
              "                    --jp-layout-color2: #454545;\n",
              "                    background-color: #383838;\n",
              "                }\n",
              "                    \n",
              "                .geemap-dark .jupyter-button {\n",
              "                    --jp-layout-color3: #383838;\n",
              "                }\n",
              "                \n",
              "                .geemap-colab {\n",
              "                    background-color: var(--colab-primary-surface-color, white);\n",
              "                }\n",
              "                    \n",
              "                .geemap-colab .jupyter-button {\n",
              "                    --jp-layout-color3: var(--colab-primary-surface-color, white);\n",
              "                }\n",
              "            </style>\n",
              "            "
            ],
            "text/plain": [
              "<IPython.core.display.HTML object>"
            ]
          },
          "metadata": {},
          "output_type": "display_data"
        }
      ],
      "source": [
        "ee.Initialize(project=\"ee-murilloalcosta\")"
      ]
    },
    {
      "cell_type": "markdown",
      "metadata": {
        "id": "hN3XrFYWIYO1"
      },
      "source": [
        "#### Carregando a imagem de uso e cobertura do solo - Mapbiomas"
      ]
    },
    {
      "cell_type": "code",
      "execution_count": 26,
      "metadata": {
        "colab": {
          "base_uri": "https://localhost:8080/",
          "height": 17
        },
        "id": "bieCXubPIYlE",
        "outputId": "70a5d27b-1f8b-4c84-8394-edc96087779d"
      },
      "outputs": [
        {
          "data": {
            "text/html": [
              "\n",
              "            <style>\n",
              "                .geemap-dark {\n",
              "                    --jp-widgets-color: white;\n",
              "                    --jp-widgets-label-color: white;\n",
              "                    --jp-ui-font-color1: white;\n",
              "                    --jp-layout-color2: #454545;\n",
              "                    background-color: #383838;\n",
              "                }\n",
              "                    \n",
              "                .geemap-dark .jupyter-button {\n",
              "                    --jp-layout-color3: #383838;\n",
              "                }\n",
              "                \n",
              "                .geemap-colab {\n",
              "                    background-color: var(--colab-primary-surface-color, white);\n",
              "                }\n",
              "                    \n",
              "                .geemap-colab .jupyter-button {\n",
              "                    --jp-layout-color3: var(--colab-primary-surface-color, white);\n",
              "                }\n",
              "            </style>\n",
              "            "
            ],
            "text/plain": [
              "<IPython.core.display.HTML object>"
            ]
          },
          "metadata": {},
          "output_type": "display_data"
        }
      ],
      "source": [
        "mapbiomas = ee.Image(\"projects/mapbiomas-workspace/public/collection_S2_beta/collection_LULC_S2_beta\")"
      ]
    },
    {
      "cell_type": "markdown",
      "metadata": {
        "id": "DciDK6VvKalr"
      },
      "source": [
        "#### Selecionando região de interesse: **Camaçari**"
      ]
    },
    {
      "cell_type": "code",
      "execution_count": 27,
      "metadata": {
        "colab": {
          "base_uri": "https://localhost:8080/",
          "height": 17
        },
        "id": "qLTOI7leKaZ3",
        "outputId": "fe845367-a819-4dde-a392-94db62291d07"
      },
      "outputs": [
        {
          "data": {
            "text/html": [
              "\n",
              "            <style>\n",
              "                .geemap-dark {\n",
              "                    --jp-widgets-color: white;\n",
              "                    --jp-widgets-label-color: white;\n",
              "                    --jp-ui-font-color1: white;\n",
              "                    --jp-layout-color2: #454545;\n",
              "                    background-color: #383838;\n",
              "                }\n",
              "                    \n",
              "                .geemap-dark .jupyter-button {\n",
              "                    --jp-layout-color3: #383838;\n",
              "                }\n",
              "                \n",
              "                .geemap-colab {\n",
              "                    background-color: var(--colab-primary-surface-color, white);\n",
              "                }\n",
              "                    \n",
              "                .geemap-colab .jupyter-button {\n",
              "                    --jp-layout-color3: var(--colab-primary-surface-color, white);\n",
              "                }\n",
              "            </style>\n",
              "            "
            ],
            "text/plain": [
              "<IPython.core.display.HTML object>"
            ]
          },
          "metadata": {},
          "output_type": "display_data"
        }
      ],
      "source": [
        "Camacari = ee.FeatureCollection('projects/ee-murilloalcosta/assets/Bahia/BA_Municipios_2022').filter(ee.Filter.eq('NM_MUN', 'Camaçari'))"
      ]
    },
    {
      "cell_type": "markdown",
      "metadata": {
        "id": "J8fTIfHZLlcW"
      },
      "source": [
        "#### Recortando a camada de classificação a partir da região de interesse"
      ]
    },
    {
      "cell_type": "code",
      "execution_count": 28,
      "metadata": {
        "colab": {
          "base_uri": "https://localhost:8080/",
          "height": 17
        },
        "id": "Ua-lLyfbLl4e",
        "outputId": "0e278ae1-bfc5-42d2-8c4f-00a9a532fba1"
      },
      "outputs": [
        {
          "data": {
            "text/html": [
              "\n",
              "            <style>\n",
              "                .geemap-dark {\n",
              "                    --jp-widgets-color: white;\n",
              "                    --jp-widgets-label-color: white;\n",
              "                    --jp-ui-font-color1: white;\n",
              "                    --jp-layout-color2: #454545;\n",
              "                    background-color: #383838;\n",
              "                }\n",
              "                    \n",
              "                .geemap-dark .jupyter-button {\n",
              "                    --jp-layout-color3: #383838;\n",
              "                }\n",
              "                \n",
              "                .geemap-colab {\n",
              "                    background-color: var(--colab-primary-surface-color, white);\n",
              "                }\n",
              "                    \n",
              "                .geemap-colab .jupyter-button {\n",
              "                    --jp-layout-color3: var(--colab-primary-surface-color, white);\n",
              "                }\n",
              "            </style>\n",
              "            "
            ],
            "text/plain": [
              "<IPython.core.display.HTML object>"
            ]
          },
          "metadata": {},
          "output_type": "display_data"
        }
      ],
      "source": [
        "landcover_Camacari = mapbiomas.clip(Camacari)"
      ]
    },
    {
      "cell_type": "markdown",
      "metadata": {
        "id": "gRLXL90fJMlL"
      },
      "source": [
        "#### Selecionando as camadas de classificação de uso da terra e cobertura terrestre para os anos de **2016** a **2022**"
      ]
    },
    {
      "cell_type": "code",
      "execution_count": 29,
      "metadata": {
        "colab": {
          "base_uri": "https://localhost:8080/",
          "height": 17
        },
        "id": "0oU3j_r_JMPE",
        "outputId": "dc849c27-6e6d-485b-930f-65973709c821"
      },
      "outputs": [
        {
          "data": {
            "text/html": [
              "\n",
              "            <style>\n",
              "                .geemap-dark {\n",
              "                    --jp-widgets-color: white;\n",
              "                    --jp-widgets-label-color: white;\n",
              "                    --jp-ui-font-color1: white;\n",
              "                    --jp-layout-color2: #454545;\n",
              "                    background-color: #383838;\n",
              "                }\n",
              "                    \n",
              "                .geemap-dark .jupyter-button {\n",
              "                    --jp-layout-color3: #383838;\n",
              "                }\n",
              "                \n",
              "                .geemap-colab {\n",
              "                    background-color: var(--colab-primary-surface-color, white);\n",
              "                }\n",
              "                    \n",
              "                .geemap-colab .jupyter-button {\n",
              "                    --jp-layout-color3: var(--colab-primary-surface-color, white);\n",
              "                }\n",
              "            </style>\n",
              "            "
            ],
            "text/plain": [
              "<IPython.core.display.HTML object>"
            ]
          },
          "metadata": {},
          "output_type": "display_data"
        }
      ],
      "source": [
        "landcover_Camacari_2016 = landcover_Camacari.select('classification_2016')\n",
        "landcover_Camacari_2017 = landcover_Camacari.select('classification_2017')\n",
        "landcover_Camacari_2018 = landcover_Camacari.select('classification_2018')\n",
        "landcover_Camacari_2019 = landcover_Camacari.select('classification_2019')\n",
        "landcover_Camacari_2020 = landcover_Camacari.select('classification_2020')\n",
        "landcover_Camacari_2021 = landcover_Camacari.select('classification_2021')\n",
        "landcover_Camacari_2022 = landcover_Camacari.select('classification_2022')"
      ]
    },
    {
      "cell_type": "markdown",
      "metadata": {
        "id": "geZ6r5YlNtsM"
      },
      "source": [
        "#### Declarando paleta de cores para visualização"
      ]
    },
    {
      "cell_type": "code",
      "execution_count": 30,
      "metadata": {
        "colab": {
          "base_uri": "https://localhost:8080/",
          "height": 17
        },
        "id": "G8r09EPlNmU1",
        "outputId": "14e16be2-a9eb-4452-cf7e-3fd6f3586152"
      },
      "outputs": [
        {
          "data": {
            "text/html": [
              "\n",
              "            <style>\n",
              "                .geemap-dark {\n",
              "                    --jp-widgets-color: white;\n",
              "                    --jp-widgets-label-color: white;\n",
              "                    --jp-ui-font-color1: white;\n",
              "                    --jp-layout-color2: #454545;\n",
              "                    background-color: #383838;\n",
              "                }\n",
              "                    \n",
              "                .geemap-dark .jupyter-button {\n",
              "                    --jp-layout-color3: #383838;\n",
              "                }\n",
              "                \n",
              "                .geemap-colab {\n",
              "                    background-color: var(--colab-primary-surface-color, white);\n",
              "                }\n",
              "                    \n",
              "                .geemap-colab .jupyter-button {\n",
              "                    --jp-layout-color3: var(--colab-primary-surface-color, white);\n",
              "                }\n",
              "            </style>\n",
              "            "
            ],
            "text/plain": [
              "<IPython.core.display.HTML object>"
            ]
          },
          "metadata": {},
          "output_type": "display_data"
        }
      ],
      "source": [
        "landcover_palette = [\n",
        "    \"#ffffff\", \"#32a65e\", \"#32a65e\", \"#1f8d49\", \"#7dc975\", \"#04381d\", \"#026975\", \"#000000\",\n",
        "    \"#000000\", \"#7a6c00\", \"#ad975a\", \"#519799\", \"#d6bc74\", \"#d89f5c\", \"#FFFFB2\", \"#edde8e\",\n",
        "    \"#000000\", \"#000000\", \"#f5b3c8\", \"#C27BA0\", \"#db7093\", \"#ffefc3\", \"#db4d4f\", \"#ffa07a\",\n",
        "    \"#d4271e\", \"#db4d4f\", \"#0000FF\", \"#000000\", \"#000000\", \"#ffaa5f\", \"#9c0027\", \"#091077\",\n",
        "    \"#fc8114\", \"#2532e4\", \"#93dfe6\", \"#9065d0\", \"#d082de\", \"#000000\", \"#000000\", \"#f5b3c8\",\n",
        "    \"#c71585\", \"#f54ca9\", \"#cca0d4\", \"#dbd26b\", \"#807a40\", \"#e04cfa\", \"#d68fe2\", \"#9932cc\",\n",
        "    \"#e6ccff\", \"#02d659\", \"#ad5100\", \"#000000\", \"#000000\", \"#000000\", \"#000000\", \"#000000\",\n",
        "    \"#000000\", \"#CC66FF\", \"#FF6666\", \"#006400\", \"#8d9e8b\", \"#f5d5d5\", \"#ff69b4\"\n",
        "]\n"
      ]
    },
    {
      "cell_type": "markdown",
      "metadata": {
        "id": "QnF8AN64N5Yl"
      },
      "source": [
        "#### Declarando parâmetros de visualização"
      ]
    },
    {
      "cell_type": "code",
      "execution_count": 31,
      "metadata": {
        "colab": {
          "base_uri": "https://localhost:8080/",
          "height": 17
        },
        "id": "5Puz6LWaNzVP",
        "outputId": "70aa3d25-7bef-4d28-9c7e-5e06d292c4d6"
      },
      "outputs": [
        {
          "data": {
            "text/html": [
              "\n",
              "            <style>\n",
              "                .geemap-dark {\n",
              "                    --jp-widgets-color: white;\n",
              "                    --jp-widgets-label-color: white;\n",
              "                    --jp-ui-font-color1: white;\n",
              "                    --jp-layout-color2: #454545;\n",
              "                    background-color: #383838;\n",
              "                }\n",
              "                    \n",
              "                .geemap-dark .jupyter-button {\n",
              "                    --jp-layout-color3: #383838;\n",
              "                }\n",
              "                \n",
              "                .geemap-colab {\n",
              "                    background-color: var(--colab-primary-surface-color, white);\n",
              "                }\n",
              "                    \n",
              "                .geemap-colab .jupyter-button {\n",
              "                    --jp-layout-color3: var(--colab-primary-surface-color, white);\n",
              "                }\n",
              "            </style>\n",
              "            "
            ],
            "text/plain": [
              "<IPython.core.display.HTML object>"
            ]
          },
          "metadata": {},
          "output_type": "display_data"
        }
      ],
      "source": [
        "vis_params = {\n",
        "    'palette': landcover_palette,\n",
        "    'min': 0,\n",
        "    'max': 62\n",
        "}"
      ]
    },
    {
      "cell_type": "markdown",
      "metadata": {
        "id": "t4hednUWO8d-"
      },
      "source": [
        "#### Declarando Mapa e configurando altura de exibição do Mapa (Geemap)"
      ]
    },
    {
      "cell_type": "code",
      "execution_count": 32,
      "metadata": {
        "colab": {
          "base_uri": "https://localhost:8080/",
          "height": 17
        },
        "id": "t0vD6JlEOziZ",
        "outputId": "2b5c0041-fba1-428b-9c4c-00e55ed798d8"
      },
      "outputs": [
        {
          "data": {
            "text/html": [
              "\n",
              "            <style>\n",
              "                .geemap-dark {\n",
              "                    --jp-widgets-color: white;\n",
              "                    --jp-widgets-label-color: white;\n",
              "                    --jp-ui-font-color1: white;\n",
              "                    --jp-layout-color2: #454545;\n",
              "                    background-color: #383838;\n",
              "                }\n",
              "                    \n",
              "                .geemap-dark .jupyter-button {\n",
              "                    --jp-layout-color3: #383838;\n",
              "                }\n",
              "                \n",
              "                .geemap-colab {\n",
              "                    background-color: var(--colab-primary-surface-color, white);\n",
              "                }\n",
              "                    \n",
              "                .geemap-colab .jupyter-button {\n",
              "                    --jp-layout-color3: var(--colab-primary-surface-color, white);\n",
              "                }\n",
              "            </style>\n",
              "            "
            ],
            "text/plain": [
              "<IPython.core.display.HTML object>"
            ]
          },
          "metadata": {},
          "output_type": "display_data"
        }
      ],
      "source": [
        "Map = geemap.Map(height=1000)"
      ]
    },
    {
      "cell_type": "markdown",
      "metadata": {
        "id": "oW1t6hSOPZYp"
      },
      "source": [
        "#### Adicionando as camadas ao Mapa e centralizando exibição na área de interesse"
      ]
    },
    {
      "cell_type": "code",
      "execution_count": 33,
      "metadata": {
        "colab": {
          "base_uri": "https://localhost:8080/",
          "height": 17
        },
        "id": "YKXeXYo7PXpc",
        "outputId": "3b92370a-1a20-4ad3-f80f-62773dee89dd"
      },
      "outputs": [
        {
          "data": {
            "text/html": [
              "\n",
              "            <style>\n",
              "                .geemap-dark {\n",
              "                    --jp-widgets-color: white;\n",
              "                    --jp-widgets-label-color: white;\n",
              "                    --jp-ui-font-color1: white;\n",
              "                    --jp-layout-color2: #454545;\n",
              "                    background-color: #383838;\n",
              "                }\n",
              "                    \n",
              "                .geemap-dark .jupyter-button {\n",
              "                    --jp-layout-color3: #383838;\n",
              "                }\n",
              "                \n",
              "                .geemap-colab {\n",
              "                    background-color: var(--colab-primary-surface-color, white);\n",
              "                }\n",
              "                    \n",
              "                .geemap-colab .jupyter-button {\n",
              "                    --jp-layout-color3: var(--colab-primary-surface-color, white);\n",
              "                }\n",
              "            </style>\n",
              "            "
            ],
            "text/plain": [
              "<IPython.core.display.HTML object>"
            ]
          },
          "metadata": {},
          "output_type": "display_data"
        }
      ],
      "source": [
        "Map.addLayer(landcover_Camacari_2016, vis_params, 'Uso do Solo Camaçari - 2016')\n",
        "Map.addLayer(landcover_Camacari_2017, vis_params, 'Uso do Solo Camaçari - 2017')\n",
        "Map.addLayer(landcover_Camacari_2018, vis_params, 'Uso do Solo Camaçari - 2018')\n",
        "Map.addLayer(landcover_Camacari_2019, vis_params, 'Uso do Solo Camaçari - 2019')\n",
        "Map.addLayer(landcover_Camacari_2020, vis_params, 'Uso do Solo Camaçari - 2020')\n",
        "Map.addLayer(landcover_Camacari_2021, vis_params, 'Uso do Solo Camaçari - 2021')\n",
        "Map.addLayer(landcover_Camacari_2022, vis_params, 'Uso do Solo Camaçari - 2022')\n",
        "Map.centerObject(Camacari, 11)"
      ]
    },
    {
      "cell_type": "markdown",
      "metadata": {
        "id": "T_6Et-HeQuDo"
      },
      "source": [
        "#### Legendas MapBIOMAS\n",
        "\n",
        "cores_hex = [\n",
        "     \"#32a65e\", \"#1f8d49\", \"#7dc975\", \"#04381d\", \"#026975\", \"#02d659\", \"#ad975a\", \"#519799\",\n",
        "     \"#d6bc74\", \"#fc8114\", \"#ffaa5f\", \"#ad5100\", \"#d89f5c\", \"#FFFFB2\", \"#edde8e\", \"#E974ED\",\n",
        "     \"#C27BA0\", \"#f5b3c8\", \"#db7093\", \"#c71585\", \"#ff69b4\", \"#f54ca9\", \"#d082de\", \"#d68fe2\",\n",
        "     \"#9932cc\", \"#9065d0\", \"#e6ccff\", \"#7a5900\", \"#ffefc3\", \"#d4271e\", \"#ffa07a\", \"#d4271e\",\n",
        "     \"#9c0027\", \"#db4d4f\", \"#0000FF\", \"#2532e4\", \"#091077\", \"#ffffff\"\n",
        " ]\n",
        "\n",
        "categorias = [\n",
        "     \"Floresta\", \"Formação Florestal\", \"Formação Savânica\", \"Mangue\", \"Floresta Alagável\",\n",
        "     \"Restinga Arbórea\", \"Formação Natural não Florestal\", \"Campo Alagado e Área Pantanosa\",\n",
        "     \"Formação Campestre\", \"Apicum\", \"Afloramento Rochoso\", \"Restinga Herbácea\",\n",
        "     \"Outras Formações não Florestais\", \"Agropecuária\", \"Pastagem\", \"Agricultura\",\n",
        "     \"Lavoura Temporária\", \"Soja\", \"Cana\", \"Arroz\", \"Algodão\", \"Outras Lavouras Temporárias\",\n",
        "     \"Lavoura Perene\", \"Café\", \"Citrus\", \"Dendê\", \"Outras Lavouras Perenes\", \"Silvicultura\",\n",
        "     \"Mosaico de Usos\", \"Área não Vegetada\", \"Praia, Duna e Areal\", \"Área Urbanizada\", \"Mineração\",\n",
        "     \"Outras Áreas não Vegetadas\", \"Corpo D'água\", \"Rio, Lago e Oceano\", \"Aquicultura\", \"Não observado\"\n",
        " ]"
      ]
    },
    {
      "cell_type": "markdown",
      "metadata": {
        "id": "Mu6QgEf8RQc7"
      },
      "source": [
        "#### Declarando listas  de cores e categorias da região de interesse"
      ]
    },
    {
      "cell_type": "code",
      "execution_count": null,
      "metadata": {
        "colab": {
          "base_uri": "https://localhost:8080/",
          "height": 17
        },
        "id": "_V1FpUi3RLS8",
        "outputId": "d019bfd4-a631-4a76-eee5-a9cf3034591c"
      },
      "outputs": [
        {
          "data": {
            "text/html": [
              "\n",
              "            <style>\n",
              "                .geemap-dark {\n",
              "                    --jp-widgets-color: white;\n",
              "                    --jp-widgets-label-color: white;\n",
              "                    --jp-ui-font-color1: white;\n",
              "                    --jp-layout-color2: #454545;\n",
              "                    background-color: #383838;\n",
              "                }\n",
              "                    \n",
              "                .geemap-dark .jupyter-button {\n",
              "                    --jp-layout-color3: #383838;\n",
              "                }\n",
              "                \n",
              "                .geemap-colab {\n",
              "                    background-color: var(--colab-primary-surface-color, white);\n",
              "                }\n",
              "                    \n",
              "                .geemap-colab .jupyter-button {\n",
              "                    --jp-layout-color3: var(--colab-primary-surface-color, white);\n",
              "                }\n",
              "            </style>\n",
              "            "
            ],
            "text/plain": [
              "<IPython.core.display.HTML object>"
            ]
          },
          "metadata": {},
          "output_type": "display_data"
        }
      ],
      "source": [
        "cores_hex = [\n",
        "    \"#1f8d49\",\n",
        "    \"#04381d\",\n",
        "    \"#02d659\",\n",
        "    \"#ad5100\",\n",
        "    \"#edde8e\",\n",
        "    \"#E974ED\",\n",
        "    \"#7a5900\",\n",
        "    \"#ffefc3\",\n",
        "    \"#ffa07a\",\n",
        "    \"#d4271e\",\n",
        "    \"#db4d4f\",\n",
        "    \"#2532e4\",\n",
        "]\n",
        "\n",
        "categorias = [\n",
        "   \"Formação Florestal\",\n",
        "   \"Mangue\",\n",
        "   \"Restinga Arbórea\",\n",
        "   \"Restinga Herbácea\",\n",
        "   \"Pastagem\",\n",
        "   \"Agricultura\",\n",
        "   \"Silvicultura\",\n",
        "   \"Mosaico de Usos\",\n",
        "   \"Praia, Duna e Areal\",\n",
        "   \"Área Urbanizada\",\n",
        "   \"Outras Áreas não Vegetadas\",\n",
        "   \"Rio, Lago e Oceano\",\n",
        "]\n"
      ]
    },
    {
      "cell_type": "markdown",
      "metadata": {
        "id": "Pr5keqkPRaUu"
      },
      "source": [
        "#### Criando dicionário da legenda que será exibida"
      ]
    },
    {
      "cell_type": "code",
      "execution_count": null,
      "metadata": {
        "colab": {
          "base_uri": "https://localhost:8080/",
          "height": 17
        },
        "id": "389jcdTLRYA4",
        "outputId": "68e7f133-520c-43a0-945b-337769b305cc"
      },
      "outputs": [
        {
          "data": {
            "text/html": [
              "\n",
              "            <style>\n",
              "                .geemap-dark {\n",
              "                    --jp-widgets-color: white;\n",
              "                    --jp-widgets-label-color: white;\n",
              "                    --jp-ui-font-color1: white;\n",
              "                    --jp-layout-color2: #454545;\n",
              "                    background-color: #383838;\n",
              "                }\n",
              "                    \n",
              "                .geemap-dark .jupyter-button {\n",
              "                    --jp-layout-color3: #383838;\n",
              "                }\n",
              "                \n",
              "                .geemap-colab {\n",
              "                    background-color: var(--colab-primary-surface-color, white);\n",
              "                }\n",
              "                    \n",
              "                .geemap-colab .jupyter-button {\n",
              "                    --jp-layout-color3: var(--colab-primary-surface-color, white);\n",
              "                }\n",
              "            </style>\n",
              "            "
            ],
            "text/plain": [
              "<IPython.core.display.HTML object>"
            ]
          },
          "metadata": {},
          "output_type": "display_data"
        }
      ],
      "source": [
        "legend_dictMapBiomas = {}\n",
        "\n",
        "for i in range(len(categorias)):\n",
        "    legend_dictMapBiomas[categorias[i]] = cores_hex[i]"
      ]
    },
    {
      "cell_type": "markdown",
      "metadata": {
        "id": "9DbCT8oJQaTy"
      },
      "source": [
        "#### Declarando estilos da legenda"
      ]
    },
    {
      "cell_type": "code",
      "execution_count": null,
      "metadata": {
        "colab": {
          "base_uri": "https://localhost:8080/",
          "height": 17
        },
        "id": "7G5yVX79Psb0",
        "outputId": "5208a081-5756-490a-ed3b-0db098455d24"
      },
      "outputs": [
        {
          "data": {
            "text/html": [
              "\n",
              "            <style>\n",
              "                .geemap-dark {\n",
              "                    --jp-widgets-color: white;\n",
              "                    --jp-widgets-label-color: white;\n",
              "                    --jp-ui-font-color1: white;\n",
              "                    --jp-layout-color2: #454545;\n",
              "                    background-color: #383838;\n",
              "                }\n",
              "                    \n",
              "                .geemap-dark .jupyter-button {\n",
              "                    --jp-layout-color3: #383838;\n",
              "                }\n",
              "                \n",
              "                .geemap-colab {\n",
              "                    background-color: var(--colab-primary-surface-color, white);\n",
              "                }\n",
              "                    \n",
              "                .geemap-colab .jupyter-button {\n",
              "                    --jp-layout-color3: var(--colab-primary-surface-color, white);\n",
              "                }\n",
              "            </style>\n",
              "            "
            ],
            "text/plain": [
              "<IPython.core.display.HTML object>"
            ]
          },
          "metadata": {},
          "output_type": "display_data"
        }
      ],
      "source": [
        "legend_style = {\n",
        "    'position': 'fixed',\n",
        "    'color': 'rgb(0,0,0)',\n",
        "    'z-index': '9999',\n",
        "    'border': '1px solid rgba(10, 10, 10, 0.5)',\n",
        "    'background-color': 'rgba(240, 240, 240)',\n",
        "    'border-radius': '4px',\n",
        "    'padding': '5px',\n",
        "    'fontSize': '14px',\n",
        "    'bottom': '30px',\n",
        "    'right': '8px',\n",
        "}"
      ]
    },
    {
      "cell_type": "markdown",
      "metadata": {
        "id": "qtwx07VaR550"
      },
      "source": [
        "#### Criando as legendas e defininindo parâmetros de configurações"
      ]
    },
    {
      "cell_type": "code",
      "execution_count": null,
      "metadata": {
        "colab": {
          "base_uri": "https://localhost:8080/",
          "height": 17
        },
        "id": "Utv2fT8eRtYv",
        "outputId": "863b9a8f-3698-4217-d476-a86b059bcf80"
      },
      "outputs": [
        {
          "data": {
            "text/html": [
              "\n",
              "            <style>\n",
              "                .geemap-dark {\n",
              "                    --jp-widgets-color: white;\n",
              "                    --jp-widgets-label-color: white;\n",
              "                    --jp-ui-font-color1: white;\n",
              "                    --jp-layout-color2: #454545;\n",
              "                    background-color: #383838;\n",
              "                }\n",
              "                    \n",
              "                .geemap-dark .jupyter-button {\n",
              "                    --jp-layout-color3: #383838;\n",
              "                }\n",
              "                \n",
              "                .geemap-colab {\n",
              "                    background-color: var(--colab-primary-surface-color, white);\n",
              "                }\n",
              "                    \n",
              "                .geemap-colab .jupyter-button {\n",
              "                    --jp-layout-color3: var(--colab-primary-surface-color, white);\n",
              "                }\n",
              "            </style>\n",
              "            "
            ],
            "text/plain": [
              "<IPython.core.display.HTML object>"
            ]
          },
          "metadata": {},
          "output_type": "display_data"
        }
      ],
      "source": [
        "legends = geemap.create_legend(\n",
        "    title=\"Classificação de Uso e Ocupação do Solo\",\n",
        "    legend_dict=legend_dictMapBiomas,\n",
        "    draggable=False,\n",
        "    style=legend_style\n",
        ")"
      ]
    },
    {
      "cell_type": "markdown",
      "metadata": {
        "id": "zlXfiiCVF43l"
      },
      "source": [
        "#### Adicionando legendas ao mapa"
      ]
    },
    {
      "cell_type": "code",
      "execution_count": null,
      "metadata": {
        "colab": {
          "base_uri": "https://localhost:8080/",
          "height": 17
        },
        "id": "GDW8wi4vF9Ib",
        "outputId": "42641843-4e85-4aba-f866-266ef58cc18b"
      },
      "outputs": [
        {
          "data": {
            "text/html": [
              "\n",
              "            <style>\n",
              "                .geemap-dark {\n",
              "                    --jp-widgets-color: white;\n",
              "                    --jp-widgets-label-color: white;\n",
              "                    --jp-ui-font-color1: white;\n",
              "                    --jp-layout-color2: #454545;\n",
              "                    background-color: #383838;\n",
              "                }\n",
              "                    \n",
              "                .geemap-dark .jupyter-button {\n",
              "                    --jp-layout-color3: #383838;\n",
              "                }\n",
              "                \n",
              "                .geemap-colab {\n",
              "                    background-color: var(--colab-primary-surface-color, white);\n",
              "                }\n",
              "                    \n",
              "                .geemap-colab .jupyter-button {\n",
              "                    --jp-layout-color3: var(--colab-primary-surface-color, white);\n",
              "                }\n",
              "            </style>\n",
              "            "
            ],
            "text/plain": [
              "<IPython.core.display.HTML object>"
            ]
          },
          "metadata": {},
          "output_type": "display_data"
        }
      ],
      "source": [
        "Map.add_legend(legends)"
      ]
    },
    {
      "cell_type": "markdown",
      "metadata": {
        "id": "kSpFgiRfGD4Z"
      },
      "source": [
        "#### Exibindo Mapa"
      ]
    },
    {
      "cell_type": "code",
      "execution_count": 34,
      "metadata": {
        "colab": {
          "base_uri": "https://localhost:8080/",
          "height": 1000,
          "referenced_widgets": [
            "80cd5d3239ac4e96a538e9d3ce9a8520",
            "5d3b6eb9ea214af9addd67cf3dcfdcfc",
            "61bf6bad6004406fbdbbaca8b81c6655",
            "0f8b1958a1954851827d4f03dd5b1964",
            "5e53c93aef424105bbb68250d9171d16",
            "0e1da9bd5e9440528a5a1184722e31dc",
            "e264b337d1f1426e9ca896424c7b4396",
            "89f377254dbb48cfb9d430bd0eb5e505",
            "a8ef64fea91c472d97840e9eface8504",
            "3c28e0ceaab245849ebc2e2b5480d4a2",
            "e3af47ba38ce4d7b8c7eee48ff9518e4",
            "9e44cf9d4c8e4b9fa9a1cdf36234a745",
            "99d1c716866f45df99d65b7a8bd006af",
            "99e5e2ddf921428ca099cec6f8de02c3",
            "4ba66e6f1f8c4a7e998bb6f2a3c04695",
            "93514ae5b24f45ff9eda33d625773739",
            "db784d3eee0e4c8cbfdf2b2d8553577e",
            "98cbc654343b49189b971c0bc071d4cb",
            "440bb91c52f84d1aba5800f108406b46",
            "bdc22831f58849e2b644dfef72be33bf",
            "760f3063d38d4000a2c46823b67a208e",
            "6a2e45f446ec4f4cb56ad83e008dfdab",
            "c09332cf7fab468aa0a8679abf6e752f",
            "5f24a519011145cd881aee2b7c9a1618",
            "69c268308f1e4b64a1202e41330d7a88",
            "87c8458fe40d4f7bb081e6e324d8a4f2",
            "c630df1eec5e4d45b6f06451f318aef6",
            "7648f7ccab9b44a9b77233151eb322ba",
            "c8b2b684527a45d7a121b43b6cc8b610",
            "a2f6cc87a95649bb94175b37f713ad3c",
            "91636e94d4844aafbe3b34b77d7bde8c"
          ]
        },
        "id": "SE2BMjkQGC_t",
        "outputId": "f01a1915-6803-4e8e-c112-93ee1c2ff341"
      },
      "outputs": [
        {
          "data": {
            "text/html": [
              "\n",
              "            <style>\n",
              "                .geemap-dark {\n",
              "                    --jp-widgets-color: white;\n",
              "                    --jp-widgets-label-color: white;\n",
              "                    --jp-ui-font-color1: white;\n",
              "                    --jp-layout-color2: #454545;\n",
              "                    background-color: #383838;\n",
              "                }\n",
              "                    \n",
              "                .geemap-dark .jupyter-button {\n",
              "                    --jp-layout-color3: #383838;\n",
              "                }\n",
              "                \n",
              "                .geemap-colab {\n",
              "                    background-color: var(--colab-primary-surface-color, white);\n",
              "                }\n",
              "                    \n",
              "                .geemap-colab .jupyter-button {\n",
              "                    --jp-layout-color3: var(--colab-primary-surface-color, white);\n",
              "                }\n",
              "            </style>\n",
              "            "
            ],
            "text/plain": [
              "<IPython.core.display.HTML object>"
            ]
          },
          "metadata": {},
          "output_type": "display_data"
        },
        {
          "data": {
            "application/vnd.jupyter.widget-view+json": {
              "model_id": "80cd5d3239ac4e96a538e9d3ce9a8520",
              "version_major": 2,
              "version_minor": 0
            },
            "text/plain": [
              "Map(center=[-12.66600333799656, -38.20627631073724], controls=(WidgetControl(options=['position', 'transparent…"
            ]
          },
          "metadata": {
            "application/vnd.jupyter.widget-view+json": {
              "colab": {
                "custom_widget_manager": {
                  "url": "https://ssl.gstatic.com/colaboratory-static/widgets/colab-cdn-widget-manager/b3e629b1971e1542/manager.min.js"
                }
              }
            }
          },
          "output_type": "display_data"
        }
      ],
      "source": [
        "Map"
      ]
    },
    {
      "cell_type": "markdown",
      "metadata": {
        "id": "QXs5BOnR668j"
      },
      "source": [
        "#### Função para calcular areas(km²) por classificação do MapBiomas.\n",
        "\n",
        "##### retorna uma featureCollection"
      ]
    },
    {
      "cell_type": "code",
      "execution_count": 35,
      "metadata": {
        "colab": {
          "base_uri": "https://localhost:8080/",
          "height": 17
        },
        "id": "LEn8wEHg6Lu-",
        "outputId": "a7681262-9135-4fed-9109-716b322047cf"
      },
      "outputs": [
        {
          "data": {
            "text/html": [
              "\n",
              "            <style>\n",
              "                .geemap-dark {\n",
              "                    --jp-widgets-color: white;\n",
              "                    --jp-widgets-label-color: white;\n",
              "                    --jp-ui-font-color1: white;\n",
              "                    --jp-layout-color2: #454545;\n",
              "                    background-color: #383838;\n",
              "                }\n",
              "                    \n",
              "                .geemap-dark .jupyter-button {\n",
              "                    --jp-layout-color3: #383838;\n",
              "                }\n",
              "                \n",
              "                .geemap-colab {\n",
              "                    background-color: var(--colab-primary-surface-color, white);\n",
              "                }\n",
              "                    \n",
              "                .geemap-colab .jupyter-button {\n",
              "                    --jp-layout-color3: var(--colab-primary-surface-color, white);\n",
              "                }\n",
              "            </style>\n",
              "            "
            ],
            "text/plain": [
              "<IPython.core.display.HTML object>"
            ]
          },
          "metadata": {},
          "output_type": "display_data"
        }
      ],
      "source": [
        "def area_by_classification (image, roi, scale, bestEffort):\n",
        "\n",
        "    pixelArea = ee.Image.pixelArea()\n",
        "    # Reduzindo região de cada grupo (classes) e calculando a soma\n",
        "    areas = pixelArea.addBands(image).reduceRegion(\n",
        "        reducer = ee.Reducer.sum().group(groupField=1, groupName='classification'),\n",
        "        geometry=roi,\n",
        "        scale=scale,\n",
        "        bestEffort=bestEffort\n",
        "    )\n",
        "    # Convertendo resultado em uma lista\n",
        "    areaList = ee.List(areas.get('groups'))\n",
        "\n",
        "    sqm_to_sqkm = ee.Number(1).divide(1000000)\n",
        "    # Convertendo o resultado em FeatureCollection\n",
        "    areas = ee.FeatureCollection(areaList.map(lambda area: ee.Feature(\n",
        "    ee.Geometry.Point([0, 0]),\n",
        "    {\n",
        "        'classification': ee.Dictionary(area).get('classification'),\n",
        "        'area_sqkm': ee.Number(ee.Dictionary(area).get('sum')).multiply(sqm_to_sqkm)\n",
        "    }\n",
        "    )))\n",
        "\n",
        "    return areas"
      ]
    },
    {
      "cell_type": "markdown",
      "metadata": {
        "id": "5ER7-9ur7Rc7"
      },
      "source": [
        "#### Atribuindo às variáveis os valores calculados de areas por classificação de cada ano"
      ]
    },
    {
      "cell_type": "code",
      "execution_count": 36,
      "metadata": {
        "colab": {
          "base_uri": "https://localhost:8080/",
          "height": 17
        },
        "id": "GDdsfZCz6M_u",
        "outputId": "a11e915c-2360-4f11-b56a-f2ecdd06bea7"
      },
      "outputs": [
        {
          "data": {
            "text/html": [
              "\n",
              "            <style>\n",
              "                .geemap-dark {\n",
              "                    --jp-widgets-color: white;\n",
              "                    --jp-widgets-label-color: white;\n",
              "                    --jp-ui-font-color1: white;\n",
              "                    --jp-layout-color2: #454545;\n",
              "                    background-color: #383838;\n",
              "                }\n",
              "                    \n",
              "                .geemap-dark .jupyter-button {\n",
              "                    --jp-layout-color3: #383838;\n",
              "                }\n",
              "                \n",
              "                .geemap-colab {\n",
              "                    background-color: var(--colab-primary-surface-color, white);\n",
              "                }\n",
              "                    \n",
              "                .geemap-colab .jupyter-button {\n",
              "                    --jp-layout-color3: var(--colab-primary-surface-color, white);\n",
              "                }\n",
              "            </style>\n",
              "            "
            ],
            "text/plain": [
              "<IPython.core.display.HTML object>"
            ]
          },
          "metadata": {},
          "output_type": "display_data"
        }
      ],
      "source": [
        "areas2016 = area_by_classification(landcover_Camacari_2016, Camacari, 100, True)\n",
        "areas2017 = area_by_classification(landcover_Camacari_2017, Camacari, 100, True)\n",
        "areas2018 = area_by_classification(landcover_Camacari_2018, Camacari, 100, True)\n",
        "areas2019 = area_by_classification(landcover_Camacari_2019, Camacari, 100, True)\n",
        "areas2020 = area_by_classification(landcover_Camacari_2020, Camacari, 100, True)\n",
        "areas2021 = area_by_classification(landcover_Camacari_2021, Camacari, 100, True)\n",
        "areas2022 = area_by_classification(landcover_Camacari_2022, Camacari, 100, True)"
      ]
    },
    {
      "cell_type": "markdown",
      "metadata": {
        "id": "Vi1Xqw8f85Ir"
      },
      "source": [
        " #### Extraindo informações de classificação e área da coleção e armazenando essas informações em um dataframe"
      ]
    },
    {
      "cell_type": "code",
      "execution_count": 37,
      "metadata": {
        "colab": {
          "base_uri": "https://localhost:8080/",
          "height": 17
        },
        "id": "JbKeuero8lBJ",
        "outputId": "a5110f18-67d4-413a-f240-8ff2afe2cfdf"
      },
      "outputs": [
        {
          "data": {
            "text/html": [
              "\n",
              "            <style>\n",
              "                .geemap-dark {\n",
              "                    --jp-widgets-color: white;\n",
              "                    --jp-widgets-label-color: white;\n",
              "                    --jp-ui-font-color1: white;\n",
              "                    --jp-layout-color2: #454545;\n",
              "                    background-color: #383838;\n",
              "                }\n",
              "                    \n",
              "                .geemap-dark .jupyter-button {\n",
              "                    --jp-layout-color3: #383838;\n",
              "                }\n",
              "                \n",
              "                .geemap-colab {\n",
              "                    background-color: var(--colab-primary-surface-color, white);\n",
              "                }\n",
              "                    \n",
              "                .geemap-colab .jupyter-button {\n",
              "                    --jp-layout-color3: var(--colab-primary-surface-color, white);\n",
              "                }\n",
              "            </style>\n",
              "            "
            ],
            "text/plain": [
              "<IPython.core.display.HTML object>"
            ]
          },
          "metadata": {},
          "output_type": "display_data"
        }
      ],
      "source": [
        "def make_df_from_col(areaCollection):\n",
        "    data = areaCollection.getInfo()['features']\n",
        "\n",
        "    classification = [item['properties']['classification'] for item in data]\n",
        "    area_sqkm = [item['properties']['area_sqkm'] for item in data]\n",
        "\n",
        "    df = pd.DataFrame({\n",
        "    'Classification': classification,\n",
        "    'Area (sq km)': area_sqkm\n",
        "    })\n",
        "\n",
        "    return df\n"
      ]
    },
    {
      "cell_type": "markdown",
      "metadata": {
        "id": "eYZYxn4o-Tjy"
      },
      "source": [
        "#### Atribuindo dataframes às variáveis correspondentes"
      ]
    },
    {
      "cell_type": "code",
      "execution_count": 38,
      "metadata": {
        "colab": {
          "base_uri": "https://localhost:8080/",
          "height": 17
        },
        "id": "n4z-FX0Q-bw0",
        "outputId": "35c354a7-e9a7-42b7-e762-ea678251ca7f"
      },
      "outputs": [
        {
          "data": {
            "text/html": [
              "\n",
              "            <style>\n",
              "                .geemap-dark {\n",
              "                    --jp-widgets-color: white;\n",
              "                    --jp-widgets-label-color: white;\n",
              "                    --jp-ui-font-color1: white;\n",
              "                    --jp-layout-color2: #454545;\n",
              "                    background-color: #383838;\n",
              "                }\n",
              "                    \n",
              "                .geemap-dark .jupyter-button {\n",
              "                    --jp-layout-color3: #383838;\n",
              "                }\n",
              "                \n",
              "                .geemap-colab {\n",
              "                    background-color: var(--colab-primary-surface-color, white);\n",
              "                }\n",
              "                    \n",
              "                .geemap-colab .jupyter-button {\n",
              "                    --jp-layout-color3: var(--colab-primary-surface-color, white);\n",
              "                }\n",
              "            </style>\n",
              "            "
            ],
            "text/plain": [
              "<IPython.core.display.HTML object>"
            ]
          },
          "metadata": {},
          "output_type": "display_data"
        }
      ],
      "source": [
        "df2016 = make_df_from_col(areas2016)\n",
        "df2017 = make_df_from_col(areas2017)\n",
        "df2018 = make_df_from_col(areas2018)\n",
        "df2019 = make_df_from_col(areas2019)\n",
        "df2020 = make_df_from_col(areas2020)\n",
        "df2021 = make_df_from_col(areas2021)\n",
        "df2022 = make_df_from_col(areas2022)"
      ]
    },
    {
      "cell_type": "markdown",
      "metadata": {
        "id": "7UaVdJT6hsIF"
      },
      "source": [
        "##### Criando dicionário de classes para exibição no Mapa"
      ]
    },
    {
      "cell_type": "code",
      "execution_count": 50,
      "metadata": {
        "colab": {
          "base_uri": "https://localhost:8080/",
          "height": 17
        },
        "id": "I3cZp6fDeb46",
        "outputId": "5d1bbd48-a2a0-4bcd-85ea-c22605c71cfc"
      },
      "outputs": [
        {
          "data": {
            "text/html": [
              "\n",
              "            <style>\n",
              "                .geemap-dark {\n",
              "                    --jp-widgets-color: white;\n",
              "                    --jp-widgets-label-color: white;\n",
              "                    --jp-ui-font-color1: white;\n",
              "                    --jp-layout-color2: #454545;\n",
              "                    background-color: #383838;\n",
              "                }\n",
              "                    \n",
              "                .geemap-dark .jupyter-button {\n",
              "                    --jp-layout-color3: #383838;\n",
              "                }\n",
              "                \n",
              "                .geemap-colab {\n",
              "                    background-color: var(--colab-primary-surface-color, white);\n",
              "                }\n",
              "                    \n",
              "                .geemap-colab .jupyter-button {\n",
              "                    --jp-layout-color3: var(--colab-primary-surface-color, white);\n",
              "                }\n",
              "            </style>\n",
              "            "
            ],
            "text/plain": [
              "<IPython.core.display.HTML object>"
            ]
          },
          "metadata": {},
          "output_type": "display_data"
        }
      ],
      "source": [
        "dicionario_classes = {\n",
        "    0:\"Fora da área de interesse\", 1:\"Floresta\", 3:\"Formação Florestal\",\n",
        "    4:\"Formação Savânica\", 5:\"Mangue\", 49:\"Restinga Arborizada\",  10:\"Formação Natural não Florestal\",\n",
        "    11:\"Campo Alagado e Área Pantanosa\",   12:\"Formação Campestre\",\n",
        "    32:\"Apicum\",   29:\"Afloramento Rochoso\",   50:\"Restinga Herbácea\",\n",
        "    13:\"Outras Formações não Florestais\",  14:\"Agropecuária\",\n",
        "    15:\"Pastagem\",   18:\"Agricultura\",\n",
        "    19:\"Lavoura Temporária\",   39:\"Soja\",\n",
        "    20:\"Cana\",   40:\"Arroz (beta)\",   62:\"Algodão (beta)\",\n",
        "    41:\"Outras Lavouras Temporárias\", 36:\"Lavoura Perene\",  46:\"Café\",\n",
        "    47:\"Citrus\",  48:\"Outras Lavouras Perenes\",  9:\"Silvicultura\",\n",
        "    21:\"Mosaico de Usos\",  22:\"Área não Vegetada\",  23:\"Praia, Duna e Areal\",\n",
        "    24:\"Área Urbanizada\",  30:\"Mineração\", 25:\"Outras Áreas não Vegetadas\",\n",
        "    26:\"Corpo D'água\", 33:\"Rio, Lago e Oceano\",\n",
        "    31:\"Aquicultura\", 27:\"Não observado\"}"
      ]
    },
    {
      "cell_type": "markdown",
      "metadata": {
        "id": "YXFdz6yqiEGy"
      },
      "source": [
        "##### Função para criar uma coluna rótulo a partir da classificação usando o dicionário de classes"
      ]
    },
    {
      "cell_type": "code",
      "execution_count": 48,
      "metadata": {
        "colab": {
          "base_uri": "https://localhost:8080/",
          "height": 17
        },
        "id": "ZS9OLTmtiD4a",
        "outputId": "1cc72d9b-6b58-41f2-d3e4-f51fc0c9b2ac"
      },
      "outputs": [
        {
          "data": {
            "text/html": [
              "\n",
              "            <style>\n",
              "                .geemap-dark {\n",
              "                    --jp-widgets-color: white;\n",
              "                    --jp-widgets-label-color: white;\n",
              "                    --jp-ui-font-color1: white;\n",
              "                    --jp-layout-color2: #454545;\n",
              "                    background-color: #383838;\n",
              "                }\n",
              "                    \n",
              "                .geemap-dark .jupyter-button {\n",
              "                    --jp-layout-color3: #383838;\n",
              "                }\n",
              "                \n",
              "                .geemap-colab {\n",
              "                    background-color: var(--colab-primary-surface-color, white);\n",
              "                }\n",
              "                    \n",
              "                .geemap-colab .jupyter-button {\n",
              "                    --jp-layout-color3: var(--colab-primary-surface-color, white);\n",
              "                }\n",
              "            </style>\n",
              "            "
            ],
            "text/plain": [
              "<IPython.core.display.HTML object>"
            ]
          },
          "metadata": {},
          "output_type": "display_data"
        }
      ],
      "source": [
        "def cria_rotulos (df):\n",
        " df['rotulos'] = df['Classification'].replace(dicionario_classes)\n",
        " return df"
      ]
    },
    {
      "cell_type": "markdown",
      "metadata": {
        "id": "MN8WV7wWl2dS"
      },
      "source": [
        "#### Atribuindo  dataframes rotulados às variáveis correspondentes\n",
        "\n",
        "\n"
      ]
    },
    {
      "cell_type": "code",
      "execution_count": 54,
      "metadata": {
        "colab": {
          "base_uri": "https://localhost:8080/",
          "height": 17
        },
        "id": "rKiRllgoi5Mb",
        "outputId": "414fd8e5-479d-4a77-fa2b-4da1406cd832"
      },
      "outputs": [
        {
          "data": {
            "text/html": [
              "\n",
              "            <style>\n",
              "                .geemap-dark {\n",
              "                    --jp-widgets-color: white;\n",
              "                    --jp-widgets-label-color: white;\n",
              "                    --jp-ui-font-color1: white;\n",
              "                    --jp-layout-color2: #454545;\n",
              "                    background-color: #383838;\n",
              "                }\n",
              "                    \n",
              "                .geemap-dark .jupyter-button {\n",
              "                    --jp-layout-color3: #383838;\n",
              "                }\n",
              "                \n",
              "                .geemap-colab {\n",
              "                    background-color: var(--colab-primary-surface-color, white);\n",
              "                }\n",
              "                    \n",
              "                .geemap-colab .jupyter-button {\n",
              "                    --jp-layout-color3: var(--colab-primary-surface-color, white);\n",
              "                }\n",
              "            </style>\n",
              "            "
            ],
            "text/plain": [
              "<IPython.core.display.HTML object>"
            ]
          },
          "metadata": {},
          "output_type": "display_data"
        }
      ],
      "source": [
        "df2016_com_rotulos = cria_rotulos(df2016)\n",
        "df2022_com_rotulos = cria_rotulos(df2022)"
      ]
    },
    {
      "cell_type": "markdown",
      "metadata": {
        "id": "CZfHQQmtmUF8"
      },
      "source": [
        "#### Declarando dicionário com classes e cores correspondentes (MapBiomas)"
      ]
    },
    {
      "cell_type": "code",
      "execution_count": 60,
      "metadata": {
        "colab": {
          "base_uri": "https://localhost:8080/",
          "height": 17
        },
        "id": "cJ8tQd9IlS9M",
        "outputId": "6fd91f6a-8246-4b55-8edb-f7508f14ba55"
      },
      "outputs": [
        {
          "data": {
            "text/html": [
              "\n",
              "            <style>\n",
              "                .geemap-dark {\n",
              "                    --jp-widgets-color: white;\n",
              "                    --jp-widgets-label-color: white;\n",
              "                    --jp-ui-font-color1: white;\n",
              "                    --jp-layout-color2: #454545;\n",
              "                    background-color: #383838;\n",
              "                }\n",
              "                    \n",
              "                .geemap-dark .jupyter-button {\n",
              "                    --jp-layout-color3: #383838;\n",
              "                }\n",
              "                \n",
              "                .geemap-colab {\n",
              "                    background-color: var(--colab-primary-surface-color, white);\n",
              "                }\n",
              "                    \n",
              "                .geemap-colab .jupyter-button {\n",
              "                    --jp-layout-color3: var(--colab-primary-surface-color, white);\n",
              "                }\n",
              "            </style>\n",
              "            "
            ],
            "text/plain": [
              "<IPython.core.display.HTML object>"
            ]
          },
          "metadata": {},
          "output_type": "display_data"
        }
      ],
      "source": [
        "dicionario_classes_cores = {'Floresta': '#32a65e',\n",
        " 'Formação Florestal': '#1f8d49',\n",
        " 'Formação Savânica': '#7dc975',\n",
        " 'Mangue': '#04381d',\n",
        " 'Floresta Alagável': '#026975',\n",
        " 'Restinga Arborizada': '#02d659',\n",
        " 'Formação Natural não Florestal': '#ad975a',\n",
        " 'Campo Alagado e Área Pantanosa': '#519799',\n",
        " 'Formação Campestre': '#d6bc74',\n",
        " 'Apicum': '#fc8114',\n",
        " 'Afloramento Rochoso': '#ffaa5f',\n",
        " 'Restinga Herbácea': '#ad5100',\n",
        " 'Outras Formações não Florestais': '#d89f5c',\n",
        " 'Agropecuária': '#FFFFB2',\n",
        " 'Pastagem': '#edde8e',\n",
        " 'Agricultura': '#E974ED',\n",
        " 'Lavoura Temporária': '#C27BA0',\n",
        " 'Soja': '#f5b3c8',\n",
        " 'Cana': '#db7093',\n",
        " 'Arroz': '#c71585',\n",
        " 'Algodão': '#ff69b4',\n",
        " 'Outras Lavouras Temporárias': '#f54ca9',\n",
        " 'Lavoura Perene': '#d082de',\n",
        " 'Café': '#d68fe2',\n",
        " 'Citrus': '#9932cc',\n",
        " 'Dendê': '#9065d0',\n",
        " 'Outras Lavouras Perenes': '#e6ccff',\n",
        " 'Silvicultura': '#7a5900',\n",
        " 'Mosaico de Usos': '#ffefc3',\n",
        " 'Área não Vegetada': '#d4271e',\n",
        " 'Praia, Duna e Areal': '#ffa07a',\n",
        " 'Área Urbanizada': '#d4271e',\n",
        " 'Mineração': '#9c0027',\n",
        " 'Outras Áreas não Vegetadas': '#db4d4f',\n",
        " \"Corpo D'água\": '#0000FF',\n",
        " 'Rio, Lago e Oceano': '#2532e4',\n",
        " 'Aquicultura': '#091077',\n",
        " 'Não observado': '#ffffff',\n",
        " 'Fora da área de interesse': '#ffffff'}"
      ]
    },
    {
      "cell_type": "markdown",
      "metadata": {
        "id": "j1kegg-tmbCY"
      },
      "source": [
        "#### Função para plotagem do gráfico\n"
      ]
    },
    {
      "cell_type": "code",
      "execution_count": 83,
      "metadata": {
        "colab": {
          "base_uri": "https://localhost:8080/",
          "height": 17
        },
        "id": "8eq0UNRVnlAw",
        "outputId": "d30096a1-c90c-4efd-ae3d-702fa8e84d8d"
      },
      "outputs": [
        {
          "data": {
            "text/html": [
              "\n",
              "            <style>\n",
              "                .geemap-dark {\n",
              "                    --jp-widgets-color: white;\n",
              "                    --jp-widgets-label-color: white;\n",
              "                    --jp-ui-font-color1: white;\n",
              "                    --jp-layout-color2: #454545;\n",
              "                    background-color: #383838;\n",
              "                }\n",
              "                    \n",
              "                .geemap-dark .jupyter-button {\n",
              "                    --jp-layout-color3: #383838;\n",
              "                }\n",
              "                \n",
              "                .geemap-colab {\n",
              "                    background-color: var(--colab-primary-surface-color, white);\n",
              "                }\n",
              "                    \n",
              "                .geemap-colab .jupyter-button {\n",
              "                    --jp-layout-color3: var(--colab-primary-surface-color, white);\n",
              "                }\n",
              "            </style>\n",
              "            "
            ],
            "text/plain": [
              "<IPython.core.display.HTML object>"
            ]
          },
          "metadata": {},
          "output_type": "display_data"
        }
      ],
      "source": [
        "def plota_grafico(df, legend_dict, year):\n",
        "   # Agrupando por rótulos e somando as áreas\n",
        "    summed_areas = df.groupby('rotulos')['Area (sq km)'].sum()\n",
        "\n",
        "    # Calculando a área total\n",
        "    total_area = summed_areas.sum()\n",
        "\n",
        "    # Calculando as porcentagens relativas à área total\n",
        "    percentages = (summed_areas / total_area) * 100\n",
        "\n",
        "    # Filtrando os rótulos cujas porcentagens são maiores ou iguais a 0.009%\n",
        "    filtered_percentages = percentages[percentages >= 0.009]\n",
        "\n",
        "    # Ordenando os valores para melhor visualização\n",
        "    filtered_percentages = filtered_percentages.sort_values(ascending=False)\n",
        "\n",
        "    # Criando lista de cores baseada na ordem dos rótulos\n",
        "    colors = [legend_dict[label] for label in filtered_percentages.index]\n",
        "\n",
        "    # Criando o gráfico de barras verticais com as cores definidas\n",
        "    plt.figure(figsize=(12, 8))\n",
        "    bars = plt.bar(filtered_percentages.index, filtered_percentages.values, color=colors)\n",
        "\n",
        "    # Adicionando rótulos de dados em cada barra\n",
        "    for bar in bars:\n",
        "        yval = bar.get_height()\n",
        "        plt.text(bar.get_x() + bar.get_width() / 2, yval + 0.5, f'{yval:.2f}%', ha='center', va='bottom')\n",
        "\n",
        "    plt.xticks(rotation=45, ha='right')\n",
        "    plt.ylabel('Porcentagem da Área Total')\n",
        "    plt.xlabel('Rótulos de Classificação')\n",
        "    plt.title(f'Área Total por Classificação do MapBiomas - {year}')\n",
        "    plt.tight_layout()\n",
        "\n",
        "    return plt.show()"
      ]
    },
    {
      "cell_type": "code",
      "execution_count": 84,
      "metadata": {
        "colab": {
          "base_uri": "https://localhost:8080/",
          "height": 807
        },
        "id": "KaAFusPOk1MJ",
        "outputId": "2130618a-f892-4ae1-bc11-21bc28477059"
      },
      "outputs": [
        {
          "data": {
            "text/html": [
              "\n",
              "            <style>\n",
              "                .geemap-dark {\n",
              "                    --jp-widgets-color: white;\n",
              "                    --jp-widgets-label-color: white;\n",
              "                    --jp-ui-font-color1: white;\n",
              "                    --jp-layout-color2: #454545;\n",
              "                    background-color: #383838;\n",
              "                }\n",
              "                    \n",
              "                .geemap-dark .jupyter-button {\n",
              "                    --jp-layout-color3: #383838;\n",
              "                }\n",
              "                \n",
              "                .geemap-colab {\n",
              "                    background-color: var(--colab-primary-surface-color, white);\n",
              "                }\n",
              "                    \n",
              "                .geemap-colab .jupyter-button {\n",
              "                    --jp-layout-color3: var(--colab-primary-surface-color, white);\n",
              "                }\n",
              "            </style>\n",
              "            "
            ],
            "text/plain": [
              "<IPython.core.display.HTML object>"
            ]
          },
          "metadata": {},
          "output_type": "display_data"
        },
        {
          "data": {
            "image/png": "[encoded data removed]",
            "text/plain": [
              "<Figure size 1200x800 with 1 Axes>"
            ]
          },
          "metadata": {},
          "output_type": "display_data"
        }
      ],
      "source": [
        "plota_grafico(df2016_com_rotulos, dicionario_classes_cores, 2016)"
      ]
    },
    {
      "cell_type": "code",
      "execution_count": 85,
      "metadata": {
        "colab": {
          "base_uri": "https://localhost:8080/",
          "height": 807
        },
        "id": "ciHcVxMTlkSK",
        "outputId": "f8fb2e1f-a1dc-4712-8793-8f5f83e64b29"
      },
      "outputs": [
        {
          "data": {
            "text/html": [
              "\n",
              "            <style>\n",
              "                .geemap-dark {\n",
              "                    --jp-widgets-color: white;\n",
              "                    --jp-widgets-label-color: white;\n",
              "                    --jp-ui-font-color1: white;\n",
              "                    --jp-layout-color2: #454545;\n",
              "                    background-color: #383838;\n",
              "                }\n",
              "                    \n",
              "                .geemap-dark .jupyter-button {\n",
              "                    --jp-layout-color3: #383838;\n",
              "                }\n",
              "                \n",
              "                .geemap-colab {\n",
              "                    background-color: var(--colab-primary-surface-color, white);\n",
              "                }\n",
              "                    \n",
              "                .geemap-colab .jupyter-button {\n",
              "                    --jp-layout-color3: var(--colab-primary-surface-color, white);\n",
              "                }\n",
              "            </style>\n",
              "            "
            ],
            "text/plain": [
              "<IPython.core.display.HTML object>"
            ]
          },
          "metadata": {},
          "output_type": "display_data"
        },
        {
          "data": {
            "image/png": "[encoded data removed]",
            "text/plain": [
              "<Figure size 1200x800 with 1 Axes>"
            ]
          },
          "metadata": {},
          "output_type": "display_data"
        }
      ],
      "source": [
        "plota_grafico(df2022_com_rotulos, dicionario_classes_cores, 2022)"
      ]
    }
  ],
  "metadata": {
    "colab": {
      "authorship_tag": "ABX9TyOP40t32rfo0c3rMGb+rw3C",
      "include_colab_link": true,
      "mount_file_id": "1qQpCIarAs7ydTcrYqEIi_hSUasGs_DGV",
      "provenance": []
    },
    "kernelspec": {
      "display_name": "Python 3",
      "name": "python3"
    },
    "language_info": {
      "name": "python"
    },
    "widgets": {
      "application/vnd.jupyter.widget-state+json": {
        "0e1da9bd5e9440528a5a1184722e31dc": {
          "model_module": "jupyter-leaflet",
          "model_module_version": "^0.17",
          "model_name": "LeafletScaleControlModel",
          "state": {
            "_model_module": "jupyter-leaflet",
            "_model_module_version": "^0.17",
            "_model_name": "LeafletScaleControlModel",
            "_view_count": null,
            "_view_module": "jupyter-leaflet",
            "_view_module_version": "^0.17",
            "_view_name": "LeafletScaleControlView",
            "imperial": true,
            "max_width": 100,
            "metric": true,
            "options": [
              "imperial",
              "max_width",
              "metric",
              "position",
              "update_when_idle"
            ],
            "position": "bottomleft",
            "update_when_idle": false
          }
        },
        "0f8b1958a1954851827d4f03dd5b1964": {
          "model_module": "jupyter-leaflet",
          "model_module_version": "^0.17",
          "model_name": "LeafletFullScreenControlModel",
          "state": {
            "_model_module": "jupyter-leaflet",
            "_model_module_version": "^0.17",
            "_model_name": "LeafletFullScreenControlModel",
            "_view_count": null,
            "_view_module": "jupyter-leaflet",
            "_view_module_version": "^0.17",
            "_view_name": "LeafletFullScreenControlView",
            "options": [
              "position"
            ],
            "position": "topleft"
          }
        },
        "3c28e0ceaab245849ebc2e2b5480d4a2": {
          "model_module": "jupyter-leaflet",
          "model_module_version": "^0.17",
          "model_name": "LeafletMapStyleModel",
          "state": {
            "_model_module": "jupyter-leaflet",
            "_model_module_version": "^0.17",
            "_model_name": "LeafletMapStyleModel",
            "_view_count": null,
            "_view_module": "@jupyter-widgets/base",
            "_view_module_version": "1.2.0",
            "_view_name": "StyleView",
            "cursor": "grab"
          }
        },
        "440bb91c52f84d1aba5800f108406b46": {
          "model_module": "jupyter-leaflet",
          "model_module_version": "^0.17",
          "model_name": "LeafletTileLayerModel",
          "state": {
            "_model_module": "jupyter-leaflet",
            "_model_module_version": "^0.17",
            "_model_name": "LeafletTileLayerModel",
            "_view_count": null,
            "_view_module": "jupyter-leaflet",
            "_view_module_version": "^0.17",
            "_view_name": "LeafletTileLayerView",
            "attribution": "Google Earth Engine",
            "base": false,
            "bottom": true,
            "bounds": null,
            "detect_retina": false,
            "loading": false,
            "max_native_zoom": null,
            "max_zoom": 24,
            "min_native_zoom": null,
            "min_zoom": 0,
            "name": "Uso do Solo Camaçari - 2022",
            "no_wrap": false,
            "opacity": 1,
            "options": [
              "attribution",
              "bounds",
              "detect_retina",
              "max_native_zoom",
              "max_zoom",
              "min_native_zoom",
              "min_zoom",
              "no_wrap",
              "tile_size",
              "tms",
              "zoom_offset"
            ],
            "pane": "",
            "popup": null,
            "popup_max_height": null,
            "popup_max_width": 300,
            "popup_min_width": 50,
            "show_loading": false,
            "subitems": [],
            "tile_size": 256,
            "tms": false,
            "url": "https://earthengine.googleapis.com/v1/projects/earthengine-legacy/maps/ce1f409ff640e0838646bb1ce105e172-7de9fad78bb9fc6c016ffbdd289b24ae/tiles/{z}/{x}/{y}",
            "visible": true,
            "zoom_offset": 0
          }
        },
        "4ba66e6f1f8c4a7e998bb6f2a3c04695": {
          "model_module": "jupyter-leaflet",
          "model_module_version": "^0.17",
          "model_name": "LeafletTileLayerModel",
          "state": {
            "_model_module": "jupyter-leaflet",
            "_model_module_version": "^0.17",
            "_model_name": "LeafletTileLayerModel",
            "_view_count": null,
            "_view_module": "jupyter-leaflet",
            "_view_module_version": "^0.17",
            "_view_name": "LeafletTileLayerView",
            "attribution": "Google Earth Engine",
            "base": false,
            "bottom": true,
            "bounds": null,
            "detect_retina": false,
            "loading": false,
            "max_native_zoom": null,
            "max_zoom": 24,
            "min_native_zoom": null,
            "min_zoom": 0,
            "name": "Uso do Solo Camaçari - 2018",
            "no_wrap": false,
            "opacity": 1,
            "options": [
              "attribution",
              "bounds",
              "detect_retina",
              "max_native_zoom",
              "max_zoom",
              "min_native_zoom",
              "min_zoom",
              "no_wrap",
              "tile_size",
              "tms",
              "zoom_offset"
            ],
            "pane": "",
            "popup": null,
            "popup_max_height": null,
            "popup_max_width": 300,
            "popup_min_width": 50,
            "show_loading": false,
            "subitems": [],
            "tile_size": 256,
            "tms": false,
            "url": "https://earthengine.googleapis.com/v1/projects/earthengine-legacy/maps/14f0f7b65b50985b3f6985c1377eed9f-7a58e2733dd6e75c323c8ae42dbf7267/tiles/{z}/{x}/{y}",
            "visible": true,
            "zoom_offset": 0
          }
        },
        "5d3b6eb9ea214af9addd67cf3dcfdcfc": {
          "model_module": "jupyter-leaflet",
          "model_module_version": "^0.17",
          "model_name": "LeafletWidgetControlModel",
          "state": {
            "_model_module": "jupyter-leaflet",
            "_model_module_version": "^0.17",
            "_model_name": "LeafletWidgetControlModel",
            "_view_count": null,
            "_view_module": "jupyter-leaflet",
            "_view_module_version": "^0.17",
            "_view_name": "LeafletWidgetControlView",
            "max_height": null,
            "max_width": null,
            "min_height": null,
            "min_width": null,
            "options": [
              "position",
              "transparent_bg"
            ],
            "position": "topleft",
            "transparent_bg": false,
            "widget": "IPY_MODEL_6a2e45f446ec4f4cb56ad83e008dfdab"
          }
        },
        "5e53c93aef424105bbb68250d9171d16": {
          "model_module": "jupyter-leaflet",
          "model_module_version": "^0.17",
          "model_name": "LeafletDrawControlModel",
          "state": {
            "_model_module": "jupyter-leaflet",
            "_model_module_version": "^0.17",
            "_model_name": "LeafletDrawControlModel",
            "_view_count": null,
            "_view_module": "jupyter-leaflet",
            "_view_module_version": "^0.17",
            "_view_name": "LeafletDrawControlView",
            "circle": {},
            "circlemarker": {},
            "data": [],
            "edit": true,
            "marker": {
              "shapeOptions": {
                "color": "#3388ff"
              }
            },
            "options": [
              "position"
            ],
            "polygon": {
              "shapeOptions": {}
            },
            "polyline": {
              "shapeOptions": {}
            },
            "position": "topleft",
            "rectangle": {
              "shapeOptions": {
                "color": "#3388ff"
              }
            },
            "remove": true
          }
        },
        "5f24a519011145cd881aee2b7c9a1618": {
          "model_module": "@jupyter-widgets/controls",
          "model_module_version": "1.5.0",
          "model_name": "ToggleButtonModel",
          "state": {
            "_dom_classes": [],
            "_model_module": "@jupyter-widgets/controls",
            "_model_module_version": "1.5.0",
            "_model_name": "ToggleButtonModel",
            "_view_count": null,
            "_view_module": "@jupyter-widgets/controls",
            "_view_module_version": "1.5.0",
            "_view_name": "ToggleButtonView",
            "button_style": "",
            "description": "",
            "description_tooltip": null,
            "disabled": false,
            "icon": "globe",
            "layout": "IPY_MODEL_7648f7ccab9b44a9b77233151eb322ba",
            "style": "IPY_MODEL_c8b2b684527a45d7a121b43b6cc8b610",
            "tooltip": "Search location/data",
            "value": false
          }
        },
        "61bf6bad6004406fbdbbaca8b81c6655": {
          "model_module": "jupyter-leaflet",
          "model_module_version": "^0.17",
          "model_name": "LeafletZoomControlModel",
          "state": {
            "_model_module": "jupyter-leaflet",
            "_model_module_version": "^0.17",
            "_model_name": "LeafletZoomControlModel",
            "_view_count": null,
            "_view_module": "jupyter-leaflet",
            "_view_module_version": "^0.17",
            "_view_name": "LeafletZoomControlView",
            "options": [
              "position",
              "zoom_in_text",
              "zoom_in_title",
              "zoom_out_text",
              "zoom_out_title"
            ],
            "position": "topleft",
            "zoom_in_text": "+",
            "zoom_in_title": "Zoom in",
            "zoom_out_text": "-",
            "zoom_out_title": "Zoom out"
          }
        },
        "69c268308f1e4b64a1202e41330d7a88": {
          "model_module": "@jupyter-widgets/base",
          "model_module_version": "1.2.0",
          "model_name": "LayoutModel",
          "state": {
            "_model_module": "@jupyter-widgets/base",
            "_model_module_version": "1.2.0",
            "_model_name": "LayoutModel",
            "_view_count": null,
            "_view_module": "@jupyter-widgets/base",
            "_view_module_version": "1.2.0",
            "_view_name": "LayoutView",
            "align_content": null,
            "align_items": null,
            "align_self": null,
            "border": null,
            "bottom": null,
            "display": null,
            "flex": null,
            "flex_flow": null,
            "grid_area": null,
            "grid_auto_columns": null,
            "grid_auto_flow": null,
            "grid_auto_rows": null,
            "grid_column": null,
            "grid_gap": null,
            "grid_row": null,
            "grid_template_areas": null,
            "grid_template_columns": null,
            "grid_template_rows": null,
            "height": null,
            "justify_content": null,
            "justify_items": null,
            "left": null,
            "margin": null,
            "max_height": null,
            "max_width": null,
            "min_height": null,
            "min_width": null,
            "object_fit": null,
            "object_position": null,
            "order": null,
            "overflow": null,
            "overflow_x": null,
            "overflow_y": null,
            "padding": null,
            "right": null,
            "top": null,
            "visibility": null,
            "width": null
          }
        },
        "6a2e45f446ec4f4cb56ad83e008dfdab": {
          "model_module": "@jupyter-widgets/controls",
          "model_module_version": "1.5.0",
          "model_name": "HBoxModel",
          "state": {
            "_dom_classes": [
              "geemap-colab"
            ],
            "_model_module": "@jupyter-widgets/controls",
            "_model_module_version": "1.5.0",
            "_model_name": "HBoxModel",
            "_view_count": null,
            "_view_module": "@jupyter-widgets/controls",
            "_view_module_version": "1.5.0",
            "_view_name": "HBoxView",
            "box_style": "",
            "children": [
              "IPY_MODEL_5f24a519011145cd881aee2b7c9a1618"
            ],
            "layout": "IPY_MODEL_69c268308f1e4b64a1202e41330d7a88"
          }
        },
        "760f3063d38d4000a2c46823b67a208e": {
          "model_module": "jupyter-leaflet",
          "model_module_version": "^0.17",
          "model_name": "LeafletMapStyleModel",
          "state": {
            "_model_module": "jupyter-leaflet",
            "_model_module_version": "^0.17",
            "_model_name": "LeafletMapStyleModel",
            "_view_count": null,
            "_view_module": "@jupyter-widgets/base",
            "_view_module_version": "1.2.0",
            "_view_name": "StyleView",
            "cursor": "grab"
          }
        },
        "7648f7ccab9b44a9b77233151eb322ba": {
          "model_module": "@jupyter-widgets/base",
          "model_module_version": "1.2.0",
          "model_name": "LayoutModel",
          "state": {
            "_model_module": "@jupyter-widgets/base",
            "_model_module_version": "1.2.0",
            "_model_name": "LayoutModel",
            "_view_count": null,
            "_view_module": "@jupyter-widgets/base",
            "_view_module_version": "1.2.0",
            "_view_name": "LayoutView",
            "align_content": null,
            "align_items": null,
            "align_self": null,
            "border": null,
            "bottom": null,
            "display": null,
            "flex": null,
            "flex_flow": null,
            "grid_area": null,
            "grid_auto_columns": null,
            "grid_auto_flow": null,
            "grid_auto_rows": null,
            "grid_column": null,
            "grid_gap": null,
            "grid_row": null,
            "grid_template_areas": null,
            "grid_template_columns": null,
            "grid_template_rows": null,
            "height": "28px",
            "justify_content": null,
            "justify_items": null,
            "left": null,
            "margin": null,
            "max_height": null,
            "max_width": null,
            "min_height": null,
            "min_width": null,
            "object_fit": null,
            "object_position": null,
            "order": null,
            "overflow": null,
            "overflow_x": null,
            "overflow_y": null,
            "padding": "0px 0px 0px 4px",
            "right": null,
            "top": null,
            "visibility": null,
            "width": "28px"
          }
        },
        "80cd5d3239ac4e96a538e9d3ce9a8520": {
          "model_module": "jupyter-leaflet",
          "model_module_version": "^0.17",
          "model_name": "LeafletMapModel",
          "state": {
            "_dom_classes": [],
            "_model_module": "jupyter-leaflet",
            "_model_module_version": "^0.17",
            "_model_name": "LeafletMapModel",
            "_view_count": null,
            "_view_module": "jupyter-leaflet",
            "_view_module_version": "^0.17",
            "_view_name": "LeafletMapView",
            "bottom": 35349.000022216795,
            "bounce_at_zoom_limits": true,
            "box_zoom": true,
            "center": [
              -11.356182512026733,
              -36.570567868832974
            ],
            "close_popup_on_click": true,
            "controls": [
              "IPY_MODEL_5d3b6eb9ea214af9addd67cf3dcfdcfc",
              "IPY_MODEL_61bf6bad6004406fbdbbaca8b81c6655",
              "IPY_MODEL_0f8b1958a1954851827d4f03dd5b1964",
              "IPY_MODEL_5e53c93aef424105bbb68250d9171d16",
              "IPY_MODEL_0e1da9bd5e9440528a5a1184722e31dc",
              "IPY_MODEL_e264b337d1f1426e9ca896424c7b4396",
              "IPY_MODEL_89f377254dbb48cfb9d430bd0eb5e505",
              "IPY_MODEL_a8ef64fea91c472d97840e9eface8504"
            ],
            "crs": {
              "custom": false,
              "name": "EPSG3857"
            },
            "default_style": "IPY_MODEL_3c28e0ceaab245849ebc2e2b5480d4a2",
            "double_click_zoom": true,
            "dragging": true,
            "dragging_style": "IPY_MODEL_e3af47ba38ce4d7b8c7eee48ff9518e4",
            "east": -32.508373044614224,
            "fullscreen": false,
            "inertia": true,
            "inertia_deceleration": 3000,
            "inertia_max_speed": 1500,
            "interpolation": "bilinear",
            "keyboard": true,
            "keyboard_pan_offset": 80,
            "keyboard_zoom_offset": 1,
            "layers": [
              "IPY_MODEL_9e44cf9d4c8e4b9fa9a1cdf36234a745",
              "IPY_MODEL_99d1c716866f45df99d65b7a8bd006af",
              "IPY_MODEL_99e5e2ddf921428ca099cec6f8de02c3",
              "IPY_MODEL_4ba66e6f1f8c4a7e998bb6f2a3c04695",
              "IPY_MODEL_93514ae5b24f45ff9eda33d625773739",
              "IPY_MODEL_db784d3eee0e4c8cbfdf2b2d8553577e",
              "IPY_MODEL_98cbc654343b49189b971c0bc071d4cb",
              "IPY_MODEL_440bb91c52f84d1aba5800f108406b46"
            ],
            "layout": "IPY_MODEL_bdc22831f58849e2b644dfef72be33bf",
            "left": 25371.031289300452,
            "max_zoom": 24,
            "min_zoom": null,
            "modisdate": "2023-11-07",
            "north": -8.65162649965757,
            "options": [
              "bounce_at_zoom_limits",
              "box_zoom",
              "center",
              "close_popup_on_click",
              "double_click_zoom",
              "dragging",
              "fullscreen",
              "inertia",
              "inertia_deceleration",
              "inertia_max_speed",
              "interpolation",
              "keyboard",
              "keyboard_pan_offset",
              "keyboard_zoom_offset",
              "max_zoom",
              "min_zoom",
              "prefer_canvas",
              "scroll_wheel_zoom",
              "tap",
              "tap_tolerance",
              "touch_zoom",
              "world_copy_jump",
              "zoom",
              "zoom_animation_threshold",
              "zoom_delta",
              "zoom_snap"
            ],
            "panes": {},
            "prefer_canvas": false,
            "right": 26850.031289300452,
            "scroll_wheel_zoom": true,
            "south": -14.03534390119634,
            "style": "IPY_MODEL_3c28e0ceaab245849ebc2e2b5480d4a2",
            "tap": true,
            "tap_tolerance": 15,
            "top": 34349.000022216795,
            "touch_zoom": true,
            "west": -40.632762693051724,
            "window_url": "https://p3nbdoiyu9c-496ff2e9c6d22116-0-colab.googleusercontent.com/outputframe.html?vrz=colab_20231106-060121_RC00_579805961",
            "world_copy_jump": false,
            "zoom": 8,
            "zoom_animation_threshold": 4,
            "zoom_delta": 1,
            "zoom_snap": 1
          }
        },
        "87c8458fe40d4f7bb081e6e324d8a4f2": {
          "model_module": "@jupyter-widgets/controls",
          "model_module_version": "1.5.0",
          "model_name": "ToggleButtonModel",
          "state": {
            "_dom_classes": [],
            "_model_module": "@jupyter-widgets/controls",
            "_model_module_version": "1.5.0",
            "_model_name": "ToggleButtonModel",
            "_view_count": null,
            "_view_module": "@jupyter-widgets/controls",
            "_view_module_version": "1.5.0",
            "_view_name": "ToggleButtonView",
            "button_style": "",
            "description": "",
            "description_tooltip": null,
            "disabled": false,
            "icon": "wrench",
            "layout": "IPY_MODEL_a2f6cc87a95649bb94175b37f713ad3c",
            "style": "IPY_MODEL_91636e94d4844aafbe3b34b77d7bde8c",
            "tooltip": "Toolbar",
            "value": false
          }
        },
        "89f377254dbb48cfb9d430bd0eb5e505": {
          "model_module": "jupyter-leaflet",
          "model_module_version": "^0.17",
          "model_name": "LeafletWidgetControlModel",
          "state": {
            "_model_module": "jupyter-leaflet",
            "_model_module_version": "^0.17",
            "_model_name": "LeafletWidgetControlModel",
            "_view_count": null,
            "_view_module": "jupyter-leaflet",
            "_view_module_version": "^0.17",
            "_view_name": "LeafletWidgetControlView",
            "max_height": null,
            "max_width": null,
            "min_height": null,
            "min_width": null,
            "options": [
              "position",
              "transparent_bg"
            ],
            "position": "topright",
            "transparent_bg": false,
            "widget": "IPY_MODEL_c09332cf7fab468aa0a8679abf6e752f"
          }
        },
        "91636e94d4844aafbe3b34b77d7bde8c": {
          "model_module": "@jupyter-widgets/controls",
          "model_module_version": "1.5.0",
          "model_name": "DescriptionStyleModel",
          "state": {
            "_model_module": "@jupyter-widgets/controls",
            "_model_module_version": "1.5.0",
            "_model_name": "DescriptionStyleModel",
            "_view_count": null,
            "_view_module": "@jupyter-widgets/base",
            "_view_module_version": "1.2.0",
            "_view_name": "StyleView",
            "description_width": ""
          }
        },
        "93514ae5b24f45ff9eda33d625773739": {
          "model_module": "jupyter-leaflet",
          "model_module_version": "^0.17",
          "model_name": "LeafletTileLayerModel",
          "state": {
            "_model_module": "jupyter-leaflet",
            "_model_module_version": "^0.17",
            "_model_name": "LeafletTileLayerModel",
            "_view_count": null,
            "_view_module": "jupyter-leaflet",
            "_view_module_version": "^0.17",
            "_view_name": "LeafletTileLayerView",
            "attribution": "Google Earth Engine",
            "base": false,
            "bottom": true,
            "bounds": null,
            "detect_retina": false,
            "loading": false,
            "max_native_zoom": null,
            "max_zoom": 24,
            "min_native_zoom": null,
            "min_zoom": 0,
            "name": "Uso do Solo Camaçari - 2019",
            "no_wrap": false,
            "opacity": 1,
            "options": [
              "attribution",
              "bounds",
              "detect_retina",
              "max_native_zoom",
              "max_zoom",
              "min_native_zoom",
              "min_zoom",
              "no_wrap",
              "tile_size",
              "tms",
              "zoom_offset"
            ],
            "pane": "",
            "popup": null,
            "popup_max_height": null,
            "popup_max_width": 300,
            "popup_min_width": 50,
            "show_loading": false,
            "subitems": [],
            "tile_size": 256,
            "tms": false,
            "url": "https://earthengine.googleapis.com/v1/projects/earthengine-legacy/maps/e738d25b7f5eb7aedcb72340b379c551-ad138f42c966dfd6cf59961967f1cd0e/tiles/{z}/{x}/{y}",
            "visible": true,
            "zoom_offset": 0
          }
        },
        "98cbc654343b49189b971c0bc071d4cb": {
          "model_module": "jupyter-leaflet",
          "model_module_version": "^0.17",
          "model_name": "LeafletTileLayerModel",
          "state": {
            "_model_module": "jupyter-leaflet",
            "_model_module_version": "^0.17",
            "_model_name": "LeafletTileLayerModel",
            "_view_count": null,
            "_view_module": "jupyter-leaflet",
            "_view_module_version": "^0.17",
            "_view_name": "LeafletTileLayerView",
            "attribution": "Google Earth Engine",
            "base": false,
            "bottom": true,
            "bounds": null,
            "detect_retina": false,
            "loading": false,
            "max_native_zoom": null,
            "max_zoom": 24,
            "min_native_zoom": null,
            "min_zoom": 0,
            "name": "Uso do Solo Camaçari - 2021",
            "no_wrap": false,
            "opacity": 1,
            "options": [
              "attribution",
              "bounds",
              "detect_retina",
              "max_native_zoom",
              "max_zoom",
              "min_native_zoom",
              "min_zoom",
              "no_wrap",
              "tile_size",
              "tms",
              "zoom_offset"
            ],
            "pane": "",
            "popup": null,
            "popup_max_height": null,
            "popup_max_width": 300,
            "popup_min_width": 50,
            "show_loading": false,
            "subitems": [],
            "tile_size": 256,
            "tms": false,
            "url": "https://earthengine.googleapis.com/v1/projects/earthengine-legacy/maps/9a1ffd78b35945b790f40453cc8e7447-e3d9e8b3a834a35650a59d70ddd83e77/tiles/{z}/{x}/{y}",
            "visible": true,
            "zoom_offset": 0
          }
        },
        "99d1c716866f45df99d65b7a8bd006af": {
          "model_module": "jupyter-leaflet",
          "model_module_version": "^0.17",
          "model_name": "LeafletTileLayerModel",
          "state": {
            "_model_module": "jupyter-leaflet",
            "_model_module_version": "^0.17",
            "_model_name": "LeafletTileLayerModel",
            "_view_count": null,
            "_view_module": "jupyter-leaflet",
            "_view_module_version": "^0.17",
            "_view_name": "LeafletTileLayerView",
            "attribution": "Google Earth Engine",
            "base": false,
            "bottom": true,
            "bounds": null,
            "detect_retina": false,
            "loading": false,
            "max_native_zoom": null,
            "max_zoom": 24,
            "min_native_zoom": null,
            "min_zoom": 0,
            "name": "Uso do Solo Camaçari - 2016",
            "no_wrap": false,
            "opacity": 1,
            "options": [
              "attribution",
              "bounds",
              "detect_retina",
              "max_native_zoom",
              "max_zoom",
              "min_native_zoom",
              "min_zoom",
              "no_wrap",
              "tile_size",
              "tms",
              "zoom_offset"
            ],
            "pane": "",
            "popup": null,
            "popup_max_height": null,
            "popup_max_width": 300,
            "popup_min_width": 50,
            "show_loading": false,
            "subitems": [],
            "tile_size": 256,
            "tms": false,
            "url": "https://earthengine.googleapis.com/v1/projects/earthengine-legacy/maps/876337092fcad364f3a870c7001a8616-773795d00d8c8a0d40ca83e2dde1abf5/tiles/{z}/{x}/{y}",
            "visible": true,
            "zoom_offset": 0
          }
        },
        "99e5e2ddf921428ca099cec6f8de02c3": {
          "model_module": "jupyter-leaflet",
          "model_module_version": "^0.17",
          "model_name": "LeafletTileLayerModel",
          "state": {
            "_model_module": "jupyter-leaflet",
            "_model_module_version": "^0.17",
            "_model_name": "LeafletTileLayerModel",
            "_view_count": null,
            "_view_module": "jupyter-leaflet",
            "_view_module_version": "^0.17",
            "_view_name": "LeafletTileLayerView",
            "attribution": "Google Earth Engine",
            "base": false,
            "bottom": true,
            "bounds": null,
            "detect_retina": false,
            "loading": false,
            "max_native_zoom": null,
            "max_zoom": 24,
            "min_native_zoom": null,
            "min_zoom": 0,
            "name": "Uso do Solo Camaçari - 2017",
            "no_wrap": false,
            "opacity": 1,
            "options": [
              "attribution",
              "bounds",
              "detect_retina",
              "max_native_zoom",
              "max_zoom",
              "min_native_zoom",
              "min_zoom",
              "no_wrap",
              "tile_size",
              "tms",
              "zoom_offset"
            ],
            "pane": "",
            "popup": null,
            "popup_max_height": null,
            "popup_max_width": 300,
            "popup_min_width": 50,
            "show_loading": false,
            "subitems": [],
            "tile_size": 256,
            "tms": false,
            "url": "https://earthengine.googleapis.com/v1/projects/earthengine-legacy/maps/48c1ca514304debccabe925da1eac71d-d23d87b8b2978a3c4dc42a9594503911/tiles/{z}/{x}/{y}",
            "visible": true,
            "zoom_offset": 0
          }
        },
        "9e44cf9d4c8e4b9fa9a1cdf36234a745": {
          "model_module": "jupyter-leaflet",
          "model_module_version": "^0.17",
          "model_name": "LeafletTileLayerModel",
          "state": {
            "_model_module": "jupyter-leaflet",
            "_model_module_version": "^0.17",
            "_model_name": "LeafletTileLayerModel",
            "_view_count": null,
            "_view_module": "jupyter-leaflet",
            "_view_module_version": "^0.17",
            "_view_name": "LeafletTileLayerView",
            "attribution": "&copy; <a href=\"https://www.openstreetmap.org/copyright\">OpenStreetMap</a> contributors",
            "base": true,
            "bottom": true,
            "bounds": null,
            "detect_retina": false,
            "loading": false,
            "max_native_zoom": null,
            "max_zoom": 19,
            "min_native_zoom": null,
            "min_zoom": 1,
            "name": "OpenStreetMap.Mapnik",
            "no_wrap": false,
            "opacity": 1,
            "options": [
              "attribution",
              "bounds",
              "detect_retina",
              "max_native_zoom",
              "max_zoom",
              "min_native_zoom",
              "min_zoom",
              "no_wrap",
              "tile_size",
              "tms",
              "zoom_offset"
            ],
            "pane": "",
            "popup": null,
            "popup_max_height": null,
            "popup_max_width": 300,
            "popup_min_width": 50,
            "show_loading": false,
            "subitems": [],
            "tile_size": 256,
            "tms": false,
            "url": "https://tile.openstreetmap.org/{z}/{x}/{y}.png",
            "visible": true,
            "zoom_offset": 0
          }
        },
        "a2f6cc87a95649bb94175b37f713ad3c": {
          "model_module": "@jupyter-widgets/base",
          "model_module_version": "1.2.0",
          "model_name": "LayoutModel",
          "state": {
            "_model_module": "@jupyter-widgets/base",
            "_model_module_version": "1.2.0",
            "_model_name": "LayoutModel",
            "_view_count": null,
            "_view_module": "@jupyter-widgets/base",
            "_view_module_version": "1.2.0",
            "_view_name": "LayoutView",
            "align_content": null,
            "align_items": null,
            "align_self": null,
            "border": null,
            "bottom": null,
            "display": null,
            "flex": null,
            "flex_flow": null,
            "grid_area": null,
            "grid_auto_columns": null,
            "grid_auto_flow": null,
            "grid_auto_rows": null,
            "grid_column": null,
            "grid_gap": null,
            "grid_row": null,
            "grid_template_areas": null,
            "grid_template_columns": null,
            "grid_template_rows": null,
            "height": "28px",
            "justify_content": null,
            "justify_items": null,
            "left": null,
            "margin": null,
            "max_height": null,
            "max_width": null,
            "min_height": null,
            "min_width": null,
            "object_fit": null,
            "object_position": null,
            "order": null,
            "overflow": null,
            "overflow_x": null,
            "overflow_y": null,
            "padding": "0px 0px 0px 4px",
            "right": null,
            "top": null,
            "visibility": null,
            "width": "28px"
          }
        },
        "a8ef64fea91c472d97840e9eface8504": {
          "model_module": "jupyter-leaflet",
          "model_module_version": "^0.17",
          "model_name": "LeafletAttributionControlModel",
          "state": {
            "_model_module": "jupyter-leaflet",
            "_model_module_version": "^0.17",
            "_model_name": "LeafletAttributionControlModel",
            "_view_count": null,
            "_view_module": "jupyter-leaflet",
            "_view_module_version": "^0.17",
            "_view_name": "LeafletAttributionControlView",
            "options": [
              "position",
              "prefix"
            ],
            "position": "bottomright",
            "prefix": "ipyleaflet"
          }
        },
        "bdc22831f58849e2b644dfef72be33bf": {
          "model_module": "@jupyter-widgets/base",
          "model_module_version": "1.2.0",
          "model_name": "LayoutModel",
          "state": {
            "_model_module": "@jupyter-widgets/base",
            "_model_module_version": "1.2.0",
            "_model_name": "LayoutModel",
            "_view_count": null,
            "_view_module": "@jupyter-widgets/base",
            "_view_module_version": "1.2.0",
            "_view_name": "LayoutView",
            "align_content": null,
            "align_items": null,
            "align_self": null,
            "border": null,
            "bottom": null,
            "display": null,
            "flex": null,
            "flex_flow": null,
            "grid_area": null,
            "grid_auto_columns": null,
            "grid_auto_flow": null,
            "grid_auto_rows": null,
            "grid_column": null,
            "grid_gap": null,
            "grid_row": null,
            "grid_template_areas": null,
            "grid_template_columns": null,
            "grid_template_rows": null,
            "height": "1000px",
            "justify_content": null,
            "justify_items": null,
            "left": null,
            "margin": null,
            "max_height": null,
            "max_width": null,
            "min_height": null,
            "min_width": null,
            "object_fit": null,
            "object_position": null,
            "order": null,
            "overflow": null,
            "overflow_x": null,
            "overflow_y": null,
            "padding": null,
            "right": null,
            "top": null,
            "visibility": null,
            "width": null
          }
        },
        "c09332cf7fab468aa0a8679abf6e752f": {
          "model_module": "@jupyter-widgets/controls",
          "model_module_version": "1.5.0",
          "model_name": "VBoxModel",
          "state": {
            "_dom_classes": [
              "geemap-colab"
            ],
            "_model_module": "@jupyter-widgets/controls",
            "_model_module_version": "1.5.0",
            "_model_name": "VBoxModel",
            "_view_count": null,
            "_view_module": "@jupyter-widgets/controls",
            "_view_module_version": "1.5.0",
            "_view_name": "VBoxView",
            "box_style": "",
            "children": [
              "IPY_MODEL_87c8458fe40d4f7bb081e6e324d8a4f2"
            ],
            "layout": "IPY_MODEL_c630df1eec5e4d45b6f06451f318aef6"
          }
        },
        "c630df1eec5e4d45b6f06451f318aef6": {
          "model_module": "@jupyter-widgets/base",
          "model_module_version": "1.2.0",
          "model_name": "LayoutModel",
          "state": {
            "_model_module": "@jupyter-widgets/base",
            "_model_module_version": "1.2.0",
            "_model_name": "LayoutModel",
            "_view_count": null,
            "_view_module": "@jupyter-widgets/base",
            "_view_module_version": "1.2.0",
            "_view_name": "LayoutView",
            "align_content": null,
            "align_items": null,
            "align_self": null,
            "border": null,
            "bottom": null,
            "display": null,
            "flex": null,
            "flex_flow": null,
            "grid_area": null,
            "grid_auto_columns": null,
            "grid_auto_flow": null,
            "grid_auto_rows": null,
            "grid_column": null,
            "grid_gap": null,
            "grid_row": null,
            "grid_template_areas": null,
            "grid_template_columns": null,
            "grid_template_rows": null,
            "height": null,
            "justify_content": null,
            "justify_items": null,
            "left": null,
            "margin": null,
            "max_height": null,
            "max_width": null,
            "min_height": null,
            "min_width": null,
            "object_fit": null,
            "object_position": null,
            "order": null,
            "overflow": null,
            "overflow_x": null,
            "overflow_y": null,
            "padding": null,
            "right": null,
            "top": null,
            "visibility": null,
            "width": null
          }
        },
        "c8b2b684527a45d7a121b43b6cc8b610": {
          "model_module": "@jupyter-widgets/controls",
          "model_module_version": "1.5.0",
          "model_name": "DescriptionStyleModel",
          "state": {
            "_model_module": "@jupyter-widgets/controls",
            "_model_module_version": "1.5.0",
            "_model_name": "DescriptionStyleModel",
            "_view_count": null,
            "_view_module": "@jupyter-widgets/base",
            "_view_module_version": "1.2.0",
            "_view_name": "StyleView",
            "description_width": ""
          }
        },
        "db784d3eee0e4c8cbfdf2b2d8553577e": {
          "model_module": "jupyter-leaflet",
          "model_module_version": "^0.17",
          "model_name": "LeafletTileLayerModel",
          "state": {
            "_model_module": "jupyter-leaflet",
            "_model_module_version": "^0.17",
            "_model_name": "LeafletTileLayerModel",
            "_view_count": null,
            "_view_module": "jupyter-leaflet",
            "_view_module_version": "^0.17",
            "_view_name": "LeafletTileLayerView",
            "attribution": "Google Earth Engine",
            "base": false,
            "bottom": true,
            "bounds": null,
            "detect_retina": false,
            "loading": false,
            "max_native_zoom": null,
            "max_zoom": 24,
            "min_native_zoom": null,
            "min_zoom": 0,
            "name": "Uso do Solo Camaçari - 2020",
            "no_wrap": false,
            "opacity": 1,
            "options": [
              "attribution",
              "bounds",
              "detect_retina",
              "max_native_zoom",
              "max_zoom",
              "min_native_zoom",
              "min_zoom",
              "no_wrap",
              "tile_size",
              "tms",
              "zoom_offset"
            ],
            "pane": "",
            "popup": null,
            "popup_max_height": null,
            "popup_max_width": 300,
            "popup_min_width": 50,
            "show_loading": false,
            "subitems": [],
            "tile_size": 256,
            "tms": false,
            "url": "https://earthengine.googleapis.com/v1/projects/earthengine-legacy/maps/a0fd3fda5424a9368df89e8f4a22d32e-586bc1aa9ddaf7d9224ab9570f9939af/tiles/{z}/{x}/{y}",
            "visible": true,
            "zoom_offset": 0
          }
        },
        "e264b337d1f1426e9ca896424c7b4396": {
          "model_module": "jupyter-leaflet",
          "model_module_version": "^0.17",
          "model_name": "LeafletMeasureControlModel",
          "state": {
            "_custom_units": {},
            "_model_module": "jupyter-leaflet",
            "_model_module_version": "^0.17",
            "_model_name": "LeafletMeasureControlModel",
            "_view_count": null,
            "_view_module": "jupyter-leaflet",
            "_view_module_version": "^0.17",
            "_view_name": "LeafletMeasureControlView",
            "active_color": "orange",
            "capture_z_index": 10000,
            "completed_color": "#C8F2BE",
            "options": [
              "active_color",
              "capture_z_index",
              "completed_color",
              "popup_options",
              "position",
              "primary_area_unit",
              "primary_length_unit",
              "secondary_area_unit",
              "secondary_length_unit"
            ],
            "popup_options": {
              "autoPanPadding": [
                10,
                10
              ],
              "className": "leaflet-measure-resultpopup"
            },
            "position": "bottomleft",
            "primary_area_unit": "acres",
            "primary_length_unit": "kilometers",
            "secondary_area_unit": null,
            "secondary_length_unit": null
          }
        },
        "e3af47ba38ce4d7b8c7eee48ff9518e4": {
          "model_module": "jupyter-leaflet",
          "model_module_version": "^0.17",
          "model_name": "LeafletMapStyleModel",
          "state": {
            "_model_module": "jupyter-leaflet",
            "_model_module_version": "^0.17",
            "_model_name": "LeafletMapStyleModel",
            "_view_count": null,
            "_view_module": "@jupyter-widgets/base",
            "_view_module_version": "1.2.0",
            "_view_name": "StyleView",
            "cursor": "move"
          }
        }
      }
    }
  },
  "nbformat": 4,
  "nbformat_minor": 0
}
